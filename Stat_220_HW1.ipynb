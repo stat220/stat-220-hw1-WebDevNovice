{
  "cells": [
    {
      "cell_type": "markdown",
      "metadata": {
        "id": "oLz0Rl64lJis"
      },
      "source": [
        "[![Open in Colab](https://colab.research.google.com/assets/colab-badge.svg)](https://colab.research.google.com/github/drbob-richardson/stat220/blob/main/Assignments/Stat_220_HW1.ipynb)\n"
      ]
    },
    {
      "cell_type": "markdown",
      "metadata": {
        "id": "rAHSgD3t8Oct"
      },
      "source": [
        "**Problem 1**. Give an example of a variable that is (a) categorical; (b) quantitative; (c) discrete; (d) continuous.\n",
        "\n"
      ]
    },
    {
      "cell_type": "markdown",
      "metadata": {
        "id": "dsfbC4NlASWt"
      },
      "source": [
        "a) months of the year\n",
        "b) number of children in a family\n",
        "c) cars in a parking lot\n",
        "d) temperature outside"
      ]
    },
    {
      "cell_type": "markdown",
      "metadata": {
        "id": "724wPOyj8SMA"
      },
      "source": [
        "**Problem 2**. Analyze the Carbon_West data file using the following code."
      ]
    },
    {
      "cell_type": "code",
      "execution_count": 32,
      "metadata": {
        "id": "IKcNftN7lJiv"
      },
      "outputs": [],
      "source": [
        "import pandas as pd\n",
        "import matplotlib.pyplot as plt\n",
        "import numpy as np\n",
        "from scipy.stats import pearsonr\n",
        "from sklearn.linear_model import LinearRegression\n",
        "\n",
        "carbon_west = pd.read_fwf(\"https://stat4ds.rwth-aachen.de/data/Carbon_West.dat\")\n"
      ]
    },
    {
      "cell_type": "markdown",
      "metadata": {
        "id": "8eVNIOzIBLvz"
      },
      "source": [
        "Part a. Construct a histogram of CO2 emissions."
      ]
    },
    {
      "cell_type": "code",
      "execution_count": 33,
      "metadata": {
        "id": "hpYwEy9D6uCb",
        "colab": {
          "base_uri": "https://localhost:8080/",
          "height": 499
        },
        "outputId": "f1f3d729-0a25-4e39-d4f5-9df136c01bbc"
      },
      "outputs": [
        {
          "output_type": "execute_result",
          "data": {
            "text/plain": [
              "(array([ 1., 10., 11.,  4.,  4.,  2.,  0.,  0.,  0.,  3.]),\n",
              " array([ 2.  ,  3.45,  4.9 ,  6.35,  7.8 ,  9.25, 10.7 , 12.15, 13.6 ,\n",
              "        15.05, 16.5 ]),\n",
              " <BarContainer object of 10 artists>)"
            ]
          },
          "metadata": {},
          "execution_count": 33
        },
        {
          "output_type": "display_data",
          "data": {
            "text/plain": [
              "<Figure size 640x480 with 1 Axes>"
            ],
            "image/png": "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\n"
          },
          "metadata": {}
        }
      ],
      "source": [
        "plt.hist(carbon_west['CO2'])"
      ]
    },
    {
      "cell_type": "markdown",
      "metadata": {
        "id": "okwY6u3RA2HW"
      },
      "source": [
        "Part b. Find the mean, median, and standard deviation."
      ]
    },
    {
      "cell_type": "code",
      "execution_count": 34,
      "metadata": {
        "id": "zRgquQXDBU7d",
        "colab": {
          "base_uri": "https://localhost:8080/"
        },
        "outputId": "98848fd1-f36f-4e40-9f7e-74826beee421"
      },
      "outputs": [
        {
          "output_type": "stream",
          "name": "stdout",
          "text": [
            "Mean = 6.717142857142858\n",
            "Median = 5.9\n",
            "Standard Deviaiton = 3.3086454469884727\n"
          ]
        }
      ],
      "source": [
        "mean = np.mean(carbon_west['CO2'])\n",
        "median = np.median(carbon_west['CO2'])\n",
        "std_dev = np.std(carbon_west['CO2'])\n",
        "\n",
        "print(f'Mean = {mean}')\n",
        "print(f'Median = {median}')\n",
        "print(f'Standard Deviaiton = {std_dev}')"
      ]
    },
    {
      "cell_type": "markdown",
      "metadata": {
        "id": "51Jc1C0G8pyj"
      },
      "source": [
        "**Problem 3**. Read in the murder data set using the following code. The variable murder is the murder rate (per 100,000 population) for each state in the U.S. in 2017 according to the FBI Uniform Crime Reports. At first, do not use the observation for D.C. (DC)."
      ]
    },
    {
      "cell_type": "code",
      "execution_count": 35,
      "metadata": {
        "id": "s0xtVvvblJix"
      },
      "outputs": [],
      "source": [
        "murders = pd.read_fwf(\"https://stat4ds.rwth-aachen.de/data/Murder.dat\")\n",
        "murders_df = pd.DataFrame(murders)\n",
        "murders_df_wo_DC = murders_df[murders_df['state']!='DC']"
      ]
    },
    {
      "cell_type": "markdown",
      "metadata": {
        "id": "GZZLzlxUBHNq"
      },
      "source": [
        "Part a. Find the mean and standard deviation for murders without D.C."
      ]
    },
    {
      "cell_type": "code",
      "execution_count": 36,
      "metadata": {
        "id": "aWW3ZbwCBfNI",
        "colab": {
          "base_uri": "https://localhost:8080/"
        },
        "outputId": "4ac9433d-d013-4a90-bfe2-c472ed545522"
      },
      "outputs": [
        {
          "output_type": "stream",
          "name": "stdout",
          "text": [
            "Mean of Murders without DC = 4.874\n",
            "Standard Deviation of Murders without DC = 2.560297638947472\n"
          ]
        }
      ],
      "source": [
        "mean_wo_DC = np.mean(murders_df_wo_DC['murder'])\n",
        "std_wo_DC = np.std(murders_df_wo_DC['murder'])\n",
        "\n",
        "print(f'Mean of Murders without DC = {mean_wo_DC}')\n",
        "print(f'Standard Deviation of Murders without DC = {std_wo_DC}')"
      ]
    },
    {
      "cell_type": "markdown",
      "metadata": {
        "id": "i2g3hF1gBfmV"
      },
      "source": [
        "Part b. Find the five-number  summary without D.C."
      ]
    },
    {
      "cell_type": "code",
      "execution_count": 37,
      "metadata": {
        "id": "JHUzgc_CBkuo",
        "colab": {
          "base_uri": "https://localhost:8080/"
        },
        "outputId": "f6bb56bc-6640-4a97-ee8c-f7de938cf76e"
      },
      "outputs": [
        {
          "output_type": "stream",
          "name": "stdout",
          "text": [
            "Minimum = 1.0\n",
            "Q1 = 2.625\n",
            "Median = 4.85\n",
            "Q3 = 6.175\n",
            "Maximum = 12.4\n"
          ]
        }
      ],
      "source": [
        "minimum = np.min(murders_df_wo_DC['murder'])\n",
        "q1 = np.percentile(murders_df_wo_DC['murder'], 25)\n",
        "median = np.median(murders_df_wo_DC['murder'])\n",
        "q3 = np.percentile(murders_df_wo_DC['murder'], 75)\n",
        "maximum = np.max(murders_df_wo_DC['murder'])\n",
        "\n",
        "print(f'Minimum = {minimum}')\n",
        "print(f'Q1 = {q1}')\n",
        "print(f'Median = {median}')\n",
        "print(f'Q3 = {q3}')\n",
        "print(f'Maximum = {maximum}')"
      ]
    },
    {
      "cell_type": "markdown",
      "metadata": {
        "id": "StEDIf2eBlEo"
      },
      "source": [
        "Part c. Now include the observation for D.C. and recalculate the mean, median, and five-number summary. What is affected more by this outlier: The mean or the median? The range or the inter-quartile range?"
      ]
    },
    {
      "cell_type": "code",
      "execution_count": 38,
      "metadata": {
        "id": "0E-QkG4K85Ti",
        "colab": {
          "base_uri": "https://localhost:8080/"
        },
        "outputId": "e53d38bf-57c7-4fd3-fafa-be71e2c4ee23"
      },
      "outputs": [
        {
          "output_type": "stream",
          "name": "stdout",
          "text": [
            "Mean of Murders with DC = 5.252941176470588\n",
            "Standard Deviation of Murders with DC = 3.688687153732127\n",
            "Minimum = 1.0\n",
            "Q1 = 2.6500000000000004\n",
            "Median = 5.0\n",
            "Q3 = 6.45\n",
            "Maximum = 24.2\n"
          ]
        }
      ],
      "source": [
        "mean_w_DC = np.mean(murders['murder'])\n",
        "std_w_DC = np.std(murders['murder'])\n",
        "minimum = np.min(murders['murder'])\n",
        "q1 = np.percentile(murders['murder'], 25)\n",
        "median = np.median(murders['murder'])\n",
        "q3 = np.percentile(murders['murder'], 75)\n",
        "maximum = np.max(murders['murder'])\n",
        "\n",
        "print(f'Mean of Murders with DC = {mean_w_DC}')\n",
        "print(f'Standard Deviation of Murders with DC = {std_w_DC}')\n",
        "print(f'Minimum = {minimum}')\n",
        "print(f'Q1 = {q1}')\n",
        "print(f'Median = {median}')\n",
        "print(f'Q3 = {q3}')\n",
        "print(f'Maximum = {maximum}')"
      ]
    },
    {
      "cell_type": "markdown",
      "source": [
        "It looks like the maximum was the highest that changed"
      ],
      "metadata": {
        "id": "VhgUsUVRUiSx"
      }
    },
    {
      "cell_type": "markdown",
      "metadata": {
        "id": "XSUrzIUN9Usb"
      },
      "source": [
        "**Problem 4**. Read in the Houses data file using the following code.  The variables include price (thousands of dollars), size (square feet), tax bill (dollars), number of bathrooms, number of bedrooms, and whether the house is new (1 = yes, 0 = no) for 100 home sales in Gainesville, Florida. Let\n",
        "y = selling price and x = size of home."
      ]
    },
    {
      "cell_type": "code",
      "execution_count": 39,
      "metadata": {
        "id": "ao5ajH0RlJiy",
        "outputId": "2dfe88a7-335f-4e8a-fb89-2a7031ade081",
        "colab": {
          "base_uri": "https://localhost:8080/",
          "height": 423
        }
      },
      "outputs": [
        {
          "output_type": "execute_result",
          "data": {
            "text/plain": [
              "    case   price  size  new  taxes  bedrooms  baths\n",
              "0      1  419.85  2048    0   3104         4      2\n",
              "1      2  219.75   912    0   1173         2      1\n",
              "2      3  356.55  1654    0   3076         4      2\n",
              "3      4  300.00  2068    0   1608         3      2\n",
              "4      5  239.85  1477    0   1454         3      3\n",
              "..   ...     ...   ...  ...    ...       ...    ...\n",
              "95    96  264.00  1060    0    990         2      2\n",
              "96    97  294.75  1730    0   3030         3      2\n",
              "97    98  198.30  1370    0   1580         3      2\n",
              "98    99  132.60  1560    0   1770         3      2\n",
              "99    10  190.80  1340    0   1430         3      2\n",
              "\n",
              "[100 rows x 7 columns]"
            ],
            "text/html": [
              "\n",
              "  <div id=\"df-17c68cd8-29ad-41ca-85d8-9ffc08b67b67\" class=\"colab-df-container\">\n",
              "    <div>\n",
              "<style scoped>\n",
              "    .dataframe tbody tr th:only-of-type {\n",
              "        vertical-align: middle;\n",
              "    }\n",
              "\n",
              "    .dataframe tbody tr th {\n",
              "        vertical-align: top;\n",
              "    }\n",
              "\n",
              "    .dataframe thead th {\n",
              "        text-align: right;\n",
              "    }\n",
              "</style>\n",
              "<table border=\"1\" class=\"dataframe\">\n",
              "  <thead>\n",
              "    <tr style=\"text-align: right;\">\n",
              "      <th></th>\n",
              "      <th>case</th>\n",
              "      <th>price</th>\n",
              "      <th>size</th>\n",
              "      <th>new</th>\n",
              "      <th>taxes</th>\n",
              "      <th>bedrooms</th>\n",
              "      <th>baths</th>\n",
              "    </tr>\n",
              "  </thead>\n",
              "  <tbody>\n",
              "    <tr>\n",
              "      <th>0</th>\n",
              "      <td>1</td>\n",
              "      <td>419.85</td>\n",
              "      <td>2048</td>\n",
              "      <td>0</td>\n",
              "      <td>3104</td>\n",
              "      <td>4</td>\n",
              "      <td>2</td>\n",
              "    </tr>\n",
              "    <tr>\n",
              "      <th>1</th>\n",
              "      <td>2</td>\n",
              "      <td>219.75</td>\n",
              "      <td>912</td>\n",
              "      <td>0</td>\n",
              "      <td>1173</td>\n",
              "      <td>2</td>\n",
              "      <td>1</td>\n",
              "    </tr>\n",
              "    <tr>\n",
              "      <th>2</th>\n",
              "      <td>3</td>\n",
              "      <td>356.55</td>\n",
              "      <td>1654</td>\n",
              "      <td>0</td>\n",
              "      <td>3076</td>\n",
              "      <td>4</td>\n",
              "      <td>2</td>\n",
              "    </tr>\n",
              "    <tr>\n",
              "      <th>3</th>\n",
              "      <td>4</td>\n",
              "      <td>300.00</td>\n",
              "      <td>2068</td>\n",
              "      <td>0</td>\n",
              "      <td>1608</td>\n",
              "      <td>3</td>\n",
              "      <td>2</td>\n",
              "    </tr>\n",
              "    <tr>\n",
              "      <th>4</th>\n",
              "      <td>5</td>\n",
              "      <td>239.85</td>\n",
              "      <td>1477</td>\n",
              "      <td>0</td>\n",
              "      <td>1454</td>\n",
              "      <td>3</td>\n",
              "      <td>3</td>\n",
              "    </tr>\n",
              "    <tr>\n",
              "      <th>...</th>\n",
              "      <td>...</td>\n",
              "      <td>...</td>\n",
              "      <td>...</td>\n",
              "      <td>...</td>\n",
              "      <td>...</td>\n",
              "      <td>...</td>\n",
              "      <td>...</td>\n",
              "    </tr>\n",
              "    <tr>\n",
              "      <th>95</th>\n",
              "      <td>96</td>\n",
              "      <td>264.00</td>\n",
              "      <td>1060</td>\n",
              "      <td>0</td>\n",
              "      <td>990</td>\n",
              "      <td>2</td>\n",
              "      <td>2</td>\n",
              "    </tr>\n",
              "    <tr>\n",
              "      <th>96</th>\n",
              "      <td>97</td>\n",
              "      <td>294.75</td>\n",
              "      <td>1730</td>\n",
              "      <td>0</td>\n",
              "      <td>3030</td>\n",
              "      <td>3</td>\n",
              "      <td>2</td>\n",
              "    </tr>\n",
              "    <tr>\n",
              "      <th>97</th>\n",
              "      <td>98</td>\n",
              "      <td>198.30</td>\n",
              "      <td>1370</td>\n",
              "      <td>0</td>\n",
              "      <td>1580</td>\n",
              "      <td>3</td>\n",
              "      <td>2</td>\n",
              "    </tr>\n",
              "    <tr>\n",
              "      <th>98</th>\n",
              "      <td>99</td>\n",
              "      <td>132.60</td>\n",
              "      <td>1560</td>\n",
              "      <td>0</td>\n",
              "      <td>1770</td>\n",
              "      <td>3</td>\n",
              "      <td>2</td>\n",
              "    </tr>\n",
              "    <tr>\n",
              "      <th>99</th>\n",
              "      <td>10</td>\n",
              "      <td>190.80</td>\n",
              "      <td>1340</td>\n",
              "      <td>0</td>\n",
              "      <td>1430</td>\n",
              "      <td>3</td>\n",
              "      <td>2</td>\n",
              "    </tr>\n",
              "  </tbody>\n",
              "</table>\n",
              "<p>100 rows × 7 columns</p>\n",
              "</div>\n",
              "    <div class=\"colab-df-buttons\">\n",
              "\n",
              "  <div class=\"colab-df-container\">\n",
              "    <button class=\"colab-df-convert\" onclick=\"convertToInteractive('df-17c68cd8-29ad-41ca-85d8-9ffc08b67b67')\"\n",
              "            title=\"Convert this dataframe to an interactive table.\"\n",
              "            style=\"display:none;\">\n",
              "\n",
              "  <svg xmlns=\"http://www.w3.org/2000/svg\" height=\"24px\" viewBox=\"0 -960 960 960\">\n",
              "    <path d=\"M120-120v-720h720v720H120Zm60-500h600v-160H180v160Zm220 220h160v-160H400v160Zm0 220h160v-160H400v160ZM180-400h160v-160H180v160Zm440 0h160v-160H620v160ZM180-180h160v-160H180v160Zm440 0h160v-160H620v160Z\"/>\n",
              "  </svg>\n",
              "    </button>\n",
              "\n",
              "  <style>\n",
              "    .colab-df-container {\n",
              "      display:flex;\n",
              "      gap: 12px;\n",
              "    }\n",
              "\n",
              "    .colab-df-convert {\n",
              "      background-color: #E8F0FE;\n",
              "      border: none;\n",
              "      border-radius: 50%;\n",
              "      cursor: pointer;\n",
              "      display: none;\n",
              "      fill: #1967D2;\n",
              "      height: 32px;\n",
              "      padding: 0 0 0 0;\n",
              "      width: 32px;\n",
              "    }\n",
              "\n",
              "    .colab-df-convert:hover {\n",
              "      background-color: #E2EBFA;\n",
              "      box-shadow: 0px 1px 2px rgba(60, 64, 67, 0.3), 0px 1px 3px 1px rgba(60, 64, 67, 0.15);\n",
              "      fill: #174EA6;\n",
              "    }\n",
              "\n",
              "    .colab-df-buttons div {\n",
              "      margin-bottom: 4px;\n",
              "    }\n",
              "\n",
              "    [theme=dark] .colab-df-convert {\n",
              "      background-color: #3B4455;\n",
              "      fill: #D2E3FC;\n",
              "    }\n",
              "\n",
              "    [theme=dark] .colab-df-convert:hover {\n",
              "      background-color: #434B5C;\n",
              "      box-shadow: 0px 1px 3px 1px rgba(0, 0, 0, 0.15);\n",
              "      filter: drop-shadow(0px 1px 2px rgba(0, 0, 0, 0.3));\n",
              "      fill: #FFFFFF;\n",
              "    }\n",
              "  </style>\n",
              "\n",
              "    <script>\n",
              "      const buttonEl =\n",
              "        document.querySelector('#df-17c68cd8-29ad-41ca-85d8-9ffc08b67b67 button.colab-df-convert');\n",
              "      buttonEl.style.display =\n",
              "        google.colab.kernel.accessAllowed ? 'block' : 'none';\n",
              "\n",
              "      async function convertToInteractive(key) {\n",
              "        const element = document.querySelector('#df-17c68cd8-29ad-41ca-85d8-9ffc08b67b67');\n",
              "        const dataTable =\n",
              "          await google.colab.kernel.invokeFunction('convertToInteractive',\n",
              "                                                    [key], {});\n",
              "        if (!dataTable) return;\n",
              "\n",
              "        const docLinkHtml = 'Like what you see? Visit the ' +\n",
              "          '<a target=\"_blank\" href=https://colab.research.google.com/notebooks/data_table.ipynb>data table notebook</a>'\n",
              "          + ' to learn more about interactive tables.';\n",
              "        element.innerHTML = '';\n",
              "        dataTable['output_type'] = 'display_data';\n",
              "        await google.colab.output.renderOutput(dataTable, element);\n",
              "        const docLink = document.createElement('div');\n",
              "        docLink.innerHTML = docLinkHtml;\n",
              "        element.appendChild(docLink);\n",
              "      }\n",
              "    </script>\n",
              "  </div>\n",
              "\n",
              "\n",
              "<div id=\"df-6e09d09a-8463-4948-87f3-6ff2de6931b4\">\n",
              "  <button class=\"colab-df-quickchart\" onclick=\"quickchart('df-6e09d09a-8463-4948-87f3-6ff2de6931b4')\"\n",
              "            title=\"Suggest charts\"\n",
              "            style=\"display:none;\">\n",
              "\n",
              "<svg xmlns=\"http://www.w3.org/2000/svg\" height=\"24px\"viewBox=\"0 0 24 24\"\n",
              "     width=\"24px\">\n",
              "    <g>\n",
              "        <path d=\"M19 3H5c-1.1 0-2 .9-2 2v14c0 1.1.9 2 2 2h14c1.1 0 2-.9 2-2V5c0-1.1-.9-2-2-2zM9 17H7v-7h2v7zm4 0h-2V7h2v10zm4 0h-2v-4h2v4z\"/>\n",
              "    </g>\n",
              "</svg>\n",
              "  </button>\n",
              "\n",
              "<style>\n",
              "  .colab-df-quickchart {\n",
              "      --bg-color: #E8F0FE;\n",
              "      --fill-color: #1967D2;\n",
              "      --hover-bg-color: #E2EBFA;\n",
              "      --hover-fill-color: #174EA6;\n",
              "      --disabled-fill-color: #AAA;\n",
              "      --disabled-bg-color: #DDD;\n",
              "  }\n",
              "\n",
              "  [theme=dark] .colab-df-quickchart {\n",
              "      --bg-color: #3B4455;\n",
              "      --fill-color: #D2E3FC;\n",
              "      --hover-bg-color: #434B5C;\n",
              "      --hover-fill-color: #FFFFFF;\n",
              "      --disabled-bg-color: #3B4455;\n",
              "      --disabled-fill-color: #666;\n",
              "  }\n",
              "\n",
              "  .colab-df-quickchart {\n",
              "    background-color: var(--bg-color);\n",
              "    border: none;\n",
              "    border-radius: 50%;\n",
              "    cursor: pointer;\n",
              "    display: none;\n",
              "    fill: var(--fill-color);\n",
              "    height: 32px;\n",
              "    padding: 0;\n",
              "    width: 32px;\n",
              "  }\n",
              "\n",
              "  .colab-df-quickchart:hover {\n",
              "    background-color: var(--hover-bg-color);\n",
              "    box-shadow: 0 1px 2px rgba(60, 64, 67, 0.3), 0 1px 3px 1px rgba(60, 64, 67, 0.15);\n",
              "    fill: var(--button-hover-fill-color);\n",
              "  }\n",
              "\n",
              "  .colab-df-quickchart-complete:disabled,\n",
              "  .colab-df-quickchart-complete:disabled:hover {\n",
              "    background-color: var(--disabled-bg-color);\n",
              "    fill: var(--disabled-fill-color);\n",
              "    box-shadow: none;\n",
              "  }\n",
              "\n",
              "  .colab-df-spinner {\n",
              "    border: 2px solid var(--fill-color);\n",
              "    border-color: transparent;\n",
              "    border-bottom-color: var(--fill-color);\n",
              "    animation:\n",
              "      spin 1s steps(1) infinite;\n",
              "  }\n",
              "\n",
              "  @keyframes spin {\n",
              "    0% {\n",
              "      border-color: transparent;\n",
              "      border-bottom-color: var(--fill-color);\n",
              "      border-left-color: var(--fill-color);\n",
              "    }\n",
              "    20% {\n",
              "      border-color: transparent;\n",
              "      border-left-color: var(--fill-color);\n",
              "      border-top-color: var(--fill-color);\n",
              "    }\n",
              "    30% {\n",
              "      border-color: transparent;\n",
              "      border-left-color: var(--fill-color);\n",
              "      border-top-color: var(--fill-color);\n",
              "      border-right-color: var(--fill-color);\n",
              "    }\n",
              "    40% {\n",
              "      border-color: transparent;\n",
              "      border-right-color: var(--fill-color);\n",
              "      border-top-color: var(--fill-color);\n",
              "    }\n",
              "    60% {\n",
              "      border-color: transparent;\n",
              "      border-right-color: var(--fill-color);\n",
              "    }\n",
              "    80% {\n",
              "      border-color: transparent;\n",
              "      border-right-color: var(--fill-color);\n",
              "      border-bottom-color: var(--fill-color);\n",
              "    }\n",
              "    90% {\n",
              "      border-color: transparent;\n",
              "      border-bottom-color: var(--fill-color);\n",
              "    }\n",
              "  }\n",
              "</style>\n",
              "\n",
              "  <script>\n",
              "    async function quickchart(key) {\n",
              "      const quickchartButtonEl =\n",
              "        document.querySelector('#' + key + ' button');\n",
              "      quickchartButtonEl.disabled = true;  // To prevent multiple clicks.\n",
              "      quickchartButtonEl.classList.add('colab-df-spinner');\n",
              "      try {\n",
              "        const charts = await google.colab.kernel.invokeFunction(\n",
              "            'suggestCharts', [key], {});\n",
              "      } catch (error) {\n",
              "        console.error('Error during call to suggestCharts:', error);\n",
              "      }\n",
              "      quickchartButtonEl.classList.remove('colab-df-spinner');\n",
              "      quickchartButtonEl.classList.add('colab-df-quickchart-complete');\n",
              "    }\n",
              "    (() => {\n",
              "      let quickchartButtonEl =\n",
              "        document.querySelector('#df-6e09d09a-8463-4948-87f3-6ff2de6931b4 button');\n",
              "      quickchartButtonEl.style.display =\n",
              "        google.colab.kernel.accessAllowed ? 'block' : 'none';\n",
              "    })();\n",
              "  </script>\n",
              "</div>\n",
              "\n",
              "  <div id=\"id_4169917d-9089-43d1-9ad6-ae732afa5b51\">\n",
              "    <style>\n",
              "      .colab-df-generate {\n",
              "        background-color: #E8F0FE;\n",
              "        border: none;\n",
              "        border-radius: 50%;\n",
              "        cursor: pointer;\n",
              "        display: none;\n",
              "        fill: #1967D2;\n",
              "        height: 32px;\n",
              "        padding: 0 0 0 0;\n",
              "        width: 32px;\n",
              "      }\n",
              "\n",
              "      .colab-df-generate:hover {\n",
              "        background-color: #E2EBFA;\n",
              "        box-shadow: 0px 1px 2px rgba(60, 64, 67, 0.3), 0px 1px 3px 1px rgba(60, 64, 67, 0.15);\n",
              "        fill: #174EA6;\n",
              "      }\n",
              "\n",
              "      [theme=dark] .colab-df-generate {\n",
              "        background-color: #3B4455;\n",
              "        fill: #D2E3FC;\n",
              "      }\n",
              "\n",
              "      [theme=dark] .colab-df-generate:hover {\n",
              "        background-color: #434B5C;\n",
              "        box-shadow: 0px 1px 3px 1px rgba(0, 0, 0, 0.15);\n",
              "        filter: drop-shadow(0px 1px 2px rgba(0, 0, 0, 0.3));\n",
              "        fill: #FFFFFF;\n",
              "      }\n",
              "    </style>\n",
              "    <button class=\"colab-df-generate\" onclick=\"generateWithVariable('houses')\"\n",
              "            title=\"Generate code using this dataframe.\"\n",
              "            style=\"display:none;\">\n",
              "\n",
              "  <svg xmlns=\"http://www.w3.org/2000/svg\" height=\"24px\"viewBox=\"0 0 24 24\"\n",
              "       width=\"24px\">\n",
              "    <path d=\"M7,19H8.4L18.45,9,17,7.55,7,17.6ZM5,21V16.75L18.45,3.32a2,2,0,0,1,2.83,0l1.4,1.43a1.91,1.91,0,0,1,.58,1.4,1.91,1.91,0,0,1-.58,1.4L9.25,21ZM18.45,9,17,7.55Zm-12,3A5.31,5.31,0,0,0,4.9,8.1,5.31,5.31,0,0,0,1,6.5,5.31,5.31,0,0,0,4.9,4.9,5.31,5.31,0,0,0,6.5,1,5.31,5.31,0,0,0,8.1,4.9,5.31,5.31,0,0,0,12,6.5,5.46,5.46,0,0,0,6.5,12Z\"/>\n",
              "  </svg>\n",
              "    </button>\n",
              "    <script>\n",
              "      (() => {\n",
              "      const buttonEl =\n",
              "        document.querySelector('#id_4169917d-9089-43d1-9ad6-ae732afa5b51 button.colab-df-generate');\n",
              "      buttonEl.style.display =\n",
              "        google.colab.kernel.accessAllowed ? 'block' : 'none';\n",
              "\n",
              "      buttonEl.onclick = () => {\n",
              "        google.colab.notebook.generateWithVariable('houses');\n",
              "      }\n",
              "      })();\n",
              "    </script>\n",
              "  </div>\n",
              "\n",
              "    </div>\n",
              "  </div>\n"
            ],
            "application/vnd.google.colaboratory.intrinsic+json": {
              "type": "dataframe",
              "variable_name": "houses",
              "summary": "{\n  \"name\": \"houses\",\n  \"rows\": 100,\n  \"fields\": [\n    {\n      \"column\": \"case\",\n      \"properties\": {\n        \"dtype\": \"number\",\n        \"std\": 28,\n        \"min\": 1,\n        \"max\": 99,\n        \"num_unique_values\": 99,\n        \"samples\": [\n          63,\n          41,\n          96\n        ],\n        \"semantic_type\": \"\",\n        \"description\": \"\"\n      }\n    },\n    {\n      \"column\": \"price\",\n      \"properties\": {\n        \"dtype\": \"number\",\n        \"std\": 151.89331886527825,\n        \"min\": 31.5,\n        \"max\": 880.5,\n        \"num_unique_values\": 81,\n        \"samples\": [\n          129.75,\n          419.85,\n          240.0\n        ],\n        \"semantic_type\": \"\",\n        \"description\": \"\"\n      }\n    },\n    {\n      \"column\": \"size\",\n      \"properties\": {\n        \"dtype\": \"number\",\n        \"std\": 666,\n        \"min\": 580,\n        \"max\": 4050,\n        \"num_unique_values\": 81,\n        \"samples\": [\n          1350,\n          2048,\n          1170\n        ],\n        \"semantic_type\": \"\",\n        \"description\": \"\"\n      }\n    },\n    {\n      \"column\": \"new\",\n      \"properties\": {\n        \"dtype\": \"number\",\n        \"std\": 0,\n        \"min\": 0,\n        \"max\": 1,\n        \"num_unique_values\": 2,\n        \"samples\": [\n          1,\n          0\n        ],\n        \"semantic_type\": \"\",\n        \"description\": \"\"\n      }\n    },\n    {\n      \"column\": \"taxes\",\n      \"properties\": {\n        \"dtype\": \"number\",\n        \"std\": 1235,\n        \"min\": 20,\n        \"max\": 6627,\n        \"num_unique_values\": 92,\n        \"samples\": [\n          1980,\n          680\n        ],\n        \"semantic_type\": \"\",\n        \"description\": \"\"\n      }\n    },\n    {\n      \"column\": \"bedrooms\",\n      \"properties\": {\n        \"dtype\": \"number\",\n        \"std\": 0,\n        \"min\": 2,\n        \"max\": 5,\n        \"num_unique_values\": 4,\n        \"samples\": [\n          2,\n          5\n        ],\n        \"semantic_type\": \"\",\n        \"description\": \"\"\n      }\n    },\n    {\n      \"column\": \"baths\",\n      \"properties\": {\n        \"dtype\": \"number\",\n        \"std\": 0,\n        \"min\": 1,\n        \"max\": 4,\n        \"num_unique_values\": 4,\n        \"samples\": [\n          1,\n          4\n        ],\n        \"semantic_type\": \"\",\n        \"description\": \"\"\n      }\n    }\n  ]\n}"
            }
          },
          "metadata": {},
          "execution_count": 39
        }
      ],
      "source": [
        "houses = pd.read_fwf(\"https://stat4ds.rwth-aachen.de/data/Houses.dat\")\n",
        "houses"
      ]
    },
    {
      "cell_type": "markdown",
      "metadata": {
        "id": "ANDMQnnNCDJ_"
      },
      "source": [
        "Part a. Construct a scatterplot between square feet and price of a home."
      ]
    },
    {
      "cell_type": "code",
      "execution_count": 40,
      "metadata": {
        "id": "NR78IlfS9UQL",
        "colab": {
          "base_uri": "https://localhost:8080/",
          "height": 489
        },
        "outputId": "a00b77a0-bec8-428e-a77f-d4c12d883542"
      },
      "outputs": [
        {
          "output_type": "execute_result",
          "data": {
            "text/plain": [
              "Text(0, 0.5, 'Price')"
            ]
          },
          "metadata": {},
          "execution_count": 40
        },
        {
          "output_type": "display_data",
          "data": {
            "text/plain": [
              "<Figure size 640x480 with 1 Axes>"
            ],
            "image/png": "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\n"
          },
          "metadata": {}
        }
      ],
      "source": [
        "plt.scatter(houses['size'],houses['price'], alpha=0.7)\n",
        "plt.title('Scatter Plot: Size vs. Price')\n",
        "plt.xlabel('Size')\n",
        "plt.ylabel('Price')"
      ]
    },
    {
      "cell_type": "markdown",
      "metadata": {
        "id": "r3-QiSsACInq"
      },
      "source": [
        "Part b. Find the correlation between the two variables."
      ]
    },
    {
      "cell_type": "code",
      "execution_count": 41,
      "metadata": {
        "id": "1Z9oP-T6CMdx",
        "colab": {
          "base_uri": "https://localhost:8080/"
        },
        "outputId": "52cf521a-7da2-4ff0-f09f-c93df09d36dd"
      },
      "outputs": [
        {
          "output_type": "stream",
          "name": "stdout",
          "text": [
            "Correlation = 0.8337847885586537\n"
          ]
        }
      ],
      "source": [
        "houses_df = pd.DataFrame(houses)\n",
        "corr = houses_df['size'].corr(houses_df['price'])\n",
        "\n",
        "print(f'Correlation = {corr}')"
      ]
    },
    {
      "cell_type": "markdown",
      "metadata": {
        "id": "nCTcEbFSCM6J"
      },
      "source": [
        "Part c. Find and plot the regression line on top of the scatterplot."
      ]
    },
    {
      "cell_type": "code",
      "execution_count": 42,
      "metadata": {
        "id": "9N0azLfulJiy",
        "colab": {
          "base_uri": "https://localhost:8080/",
          "height": 472
        },
        "outputId": "f4ac24da-77a5-4ca5-bfea-86d03a246bac"
      },
      "outputs": [
        {
          "output_type": "display_data",
          "data": {
            "text/plain": [
              "<Figure size 640x480 with 1 Axes>"
            ],
            "image/png": "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\n"
          },
          "metadata": {}
        }
      ],
      "source": [
        "x = houses_df[['size']]\n",
        "y = houses_df['price']\n",
        "model = LinearRegression()\n",
        "model.fit(x, y)\n",
        "slope = model.coef_[0]\n",
        "intercept = model.intercept_\n",
        "\n",
        "plt.scatter(x, y, alpha=0.7)\n",
        "plt.plot(x, model.predict(x), color='red', label='Regression Line')\n",
        "plt.title('Scatter Plot with Regression Line')\n",
        "plt.xlabel('Entry')\n",
        "plt.ylabel('Time')\n",
        "plt.legend()\n",
        "plt.grid(True)\n",
        "plt.show()"
      ]
    },
    {
      "cell_type": "markdown",
      "metadata": {
        "id": "oQyigfs_lJiy"
      },
      "source": [
        "Part d. Create a side by side boxplot of price comparing homes that are new and homes that are not new."
      ]
    },
    {
      "cell_type": "code",
      "execution_count": 43,
      "metadata": {
        "id": "Nz0fuJaJlJiz",
        "colab": {
          "base_uri": "https://localhost:8080/",
          "height": 495
        },
        "outputId": "a20ea313-a961-49f3-dfaa-bc03681d28cc"
      },
      "outputs": [
        {
          "output_type": "execute_result",
          "data": {
            "text/plain": [
              "<Axes: title={'center': 'price'}, xlabel='new'>"
            ]
          },
          "metadata": {},
          "execution_count": 43
        },
        {
          "output_type": "display_data",
          "data": {
            "text/plain": [
              "<Figure size 640x480 with 1 Axes>"
            ],
            "image/png": "iVBORw0KGgoAAAANSUhEUgAAAjgAAAHNCAYAAAATwgHBAAAAOXRFWHRTb2Z0d2FyZQBNYXRwbG90bGliIHZlcnNpb24zLjcuMSwgaHR0cHM6Ly9tYXRwbG90bGliLm9yZy/bCgiHAAAACXBIWXMAAA9hAAAPYQGoP6dpAAA9qklEQVR4nO3de1xVVf7/8Tf3m4J3LoVK3tDATC2lQrRA81IyaOUjK2sq+5ZW3mrSX3mrNM3MStNpvk1OYzmOjFlDZZKl4gRadBnJNC21RgW0UgQU4Zz1+6MvezpBCYGcw+b1fDx44Fl77XU+m83hvN177bO9jDFGAAAANuLt7gIAAADqGwEHAADYDgEHAADYDgEHAADYDgEHAADYDgEHAADYDgEHAADYDgEHAADYDgEHAADYDgEHsBEvLy/Nnj3b3WXY3ubNm+Xl5aXNmzf/ar/Zs2fLy8tLx44da5jCAFgIOEANrFy5Ul5eXi5f7dq106BBg/T222+7u7w627Vrl2bPnq0DBw64uxQAqBe+7i4AaEzmzp2rmJgYGWNUUFCglStXatiwYfrnP/+pESNGuLu832zXrl2aM2eOBg4cqI4dO7q7HACoMwIOUAtDhw5V3759rce33367wsPDtXr16kYdcBpSRUWFnE6n/P393V0KABvjFBVQBy1atFBQUJB8fV3/r1BSUqKpU6cqOjpaAQEB6tatmxYtWiRjjCTp1KlTio2NVWxsrE6dOmWt9/333ysyMlKXXXaZHA6HJOnWW29Vs2bN9PXXX2vIkCEKCQlRVFSU5s6da433az755BMNHTpUoaGhatasma666irl5ORYy1euXKnrrrtOkjRo0CDrFNzZ5pesXbtWPXr0UGBgoOLi4vTaa6/p1ltvdTkCdODAAXl5eWnRokVasmSJOnXqpICAAO3atUuS9N577ykxMVEhISFq0aKFRo4cqS+++MLleX4+ZqXK+S0/5eXlpYkTJ+qVV15Rt27dFBgYqD59+mjr1q1V1j906JB+//vfKzw8XAEBAbrwwgv15z//uUq///znP0pNTVVISIjatWunyZMnq6ys7Fd/Nj937NgxXX/99QoNDVXr1q11//336/Tp09bypKQkXXTRRdWu261bNw0ZMuRXx+/YsaNGjBihbdu26dJLL1VgYKAuuOACvfzyy1X6Hj9+XJMmTbJ+Nzt37qwFCxbI6XRafXr37q20tDSX9eLj4+Xl5aV///vfVtuaNWvk5eVVZZ8BHsEAOKuXXnrJSDLvvvuuOXr0qCksLDR5eXnmrrvuMt7e3mbjxo1WX6fTaa688krj5eVl7rjjDrN06VJzzTXXGElm0qRJVr+cnBzj4+NjJk+ebLWNGTPGBAUFmT179lht48aNM4GBgaZLly7m5ptvNkuXLjUjRowwkswjjzziUqckM2vWLOtxXl6eCQkJMZGRkebRRx81TzzxhImJiTEBAQEmJyfHGGPMV199Ze677z4jycyYMcP89a9/NX/9619Nfn7+L/48MjIyjJeXl+nZs6dZvHixeeSRR0zLli1NXFyc6dChg9Vv//79RpLp0aOHueCCC8wTTzxhnn76aXPw4EGTmZlpfH19TdeuXc3ChQvNnDlzTJs2bUzLli3N/v37Xbb/p2NWmjVrlvn5nzBJJi4uzrRp08bMnTvXLFiwwHTo0MEEBQWZnTt3Wv3y8/PN+eefb6Kjo83cuXPN8uXLzbXXXmskmaefftrqV1paarp27WoCAwPNgw8+aJYsWWL69OljevbsaSSZ999//xd/Rj+tMT4+3lxzzTVm6dKl5qabbjKSzM0332z1+9Of/mQkudRojDE7duwwkszLL7/8q8/ToUMH061bNxMeHm5mzJhhli5danr37m28vLxMXl6e1a+kpMT07NnTtG7d2syYMcOsWLHC3HLLLcbLy8vcf//9Vr/77rvPtG3b1nr83XffGS8vL+Pt7W2WLl1qtU+YMMGlH+BJCDhADVQGnJ9/BQQEmJUrV7r0Xb9+vZFkHnvsMZf20aNHGy8vL7Nv3z6rbfr06cbb29ts3brVrF271kgyS5YscVlv3LhxRpK59957rTan02mGDx9u/P39zdGjR632nwec1NRU4+/vb7766iur7fDhw6Z58+ZmwIABVlvlc5/tDbtSfHy8Of/8883Jkyetts2bNxtJ1Qac0NBQU1hY6DJGr169TLt27cx3331ntX322WfG29vb3HLLLS7bX5uAI8l89NFHVtvBgwdNYGCg+d3vfme13X777SYyMtIcO3bMZf0xY8aYsLAwU1paaowxZsmSJUaS+fvf/271KSkpMZ07d65VwLn22mtd2u+55x4jyXz22WfGGGOOHz9uAgMDzR/+8AeXfvfdd58JCQkxxcXFv/o8HTp0MJLM1q1brbbCwkITEBBgpk6darU9+uijJiQkxHz55Zcu6z/00EPGx8fHfPPNN8aY//4+7Nq1yxhjzBtvvGECAgLMtddea2644QZrvZ49e7r8XAFPwikqoBaWLVumzMxMZWZmatWqVRo0aJDuuOMOrVu3zurz1ltvycfHR/fdd5/LulOnTpUxxuWqq9mzZ+vCCy/UuHHjdM899ygpKanKepUmTpxo/bvyVMyZM2f07rvvVtvf4XBo48aNSk1N1QUXXGC1R0ZG6sYbb9S2bdtUVFRU65/B4cOHtXPnTt1yyy1q1qyZ1Z6UlKT4+Phq1xk1apTatm1rPT5y5Ig+/fRT3XrrrWrVqpXV3rNnT6WkpOitt96qdV2VEhIS1KdPH+tx+/btNXLkSL3zzjtyOBwyxugf//iHrrnmGhljdOzYMetryJAhOnHihD7++GNJP+7LyMhIjR492hovODhY48ePr1VNEyZMcHl87733WuNLUlhYmEaOHKnVq1dbpx0dDofWrFljnR47mx49eigxMdF63LZtW3Xr1k1ff/211bZ27VolJiaqZcuWLtudnJwsh8NhncqrHKfycVZWli655BKlpKQoKytL0o+nuvLy8lyeE/AkBBygFi699FIlJycrOTlZY8eO1ZtvvqkePXpYYUOSDh48qKioKDVv3txl3e7du1vLK/n7++vPf/6z9u/fr5MnT+qll16qMq9Ekry9vV1CiiR17dpVkn7x0u6jR4+qtLRU3bp1q7Kse/fucjqd+vbbb2u+8f+nsv7OnTtXWVZdmyTFxMRUO8Yv1Xbs2DGVlJTUujZJ6tKlS5W2rl27qrS0VEePHtXRo0d1/PhxvfDCC2rbtq3L12233SZJKiwstOrs3LlzlX1SXd21qalTp07y9vZ22Xe33HKLvvnmGytAvPvuuyooKNDNN99co+do3759lbaWLVvqhx9+sB7v3btXGzZsqLLdycnJkv673eHh4erSpYtVS1ZWlhITEzVgwAAdPnxYX3/9tf71r3/J6XQScOCxuIoKqANvb28NGjRIzzzzjPbu3asLL7yw1mO88847kqTTp09r7969VcKAHQQFBf3mdasLfJKsSdi1VTmZ9qabbtK4ceOq7dOzZ8/fNHZNVbdNQ4YMUXh4uFatWqUBAwZo1apVioiIsMLH2fj4+FTbbn4yEd3pdColJUUPPvhgtX0rQ7MkXXHFFdq0aZNOnTql3NxczZw5U3FxcWrRooWysrL0xRdfqFmzZrr44otrVB/Q0Ag4QB1VVFRIkoqLiyVJHTp00LvvvquTJ0+6HMXZvXu3tbzSv//9b82dO1e33XabPv30U91xxx3auXOnwsLCXJ7D6XTq66+/dnkD+vLLLyXpFz+3pm3btgoODtaePXuqLNu9e7e8vb0VHR0t6ZdDRHUq69+3b1+VZdW1/doYv1RbmzZtrNMyLVu21PHjx6v0++mRsJ/au3dvlbYvv/xSwcHB1mmy5s2by+FwnDU8dOjQQXl5eTLGuPyMqqv71/w8uO7bt09Op9Nl3/n4+OjGG2/UypUrtWDBAq1fv1533nnnLwaX36JTp04qLi6uUWhKTEzUSy+9pL/97W9yOBy67LLL5O3trSuuuMIKOJdddlm91gfUJ05RAXVQXl6ujRs3yt/f3zoFNWzYMDkcDi1dutSl79NPPy0vLy8NHTrUWvfWW29VVFSUnnnmGa1cuVIFBQWaPHlytc/10/GMMVq6dKn8/Px01VVXVdvfx8dHgwcP1uuvv+5yKqSgoECvvvqqrrjiCoWGhkqSFSaqCxI/FxUVpbi4OL388stWqJOkLVu2aOfOnWddX/pxHlCvXr30l7/8xeU58/LytHHjRg0bNsxq69Spk06cOOFyefKRI0f02muvVTt2dna2NYdGkr799lu9/vrrGjx4sHx8fOTj46NRo0bpH//4h/Ly8qqsf/ToUevfw4YN0+HDh5Wenm61lZaW6oUXXqjRdlZatmyZy+PnnntOkqzfhUo333yzfvjhB911110qLi7WTTfdVKvnOZvrr79e2dnZ1lHDnzp+/LgV1qX/zsNZsGCBevbsaYXuxMREbdq0SR999BGnp+DZ3DjBGWg0Kq+imjt3rnUZ9VNPPWX69OljJJmHHnrI6utwOMygQYOMl5eXGT9+vFm2bJkZOXJklcvEZ86caby8vMx7771ntT322GNGknnzzTettp9eJn7LLbeYZcuWWZeJz5gxw6VO/cJl4uedd555/PHHzYIFC8wFF1zgcpm4McYcOXLE+Pj4mP79+5uVK1ea1atXm4KCgl/8ebzxxhvWZeJPP/20mTlzpmnVqpWJi4szHTt2tPpVXkX15JNPVhmj8jLx2NhY8+STT5q5c+eatm3bmpYtW5qvv/7a6nfs2DETEhJiLrjgArNkyRIzb948Ex0dbXr37l3jy8QDAwOtK5aM+fEy8Q4dOpjg4GBz//33mz/+8Y9m/vz55rrrrjMtW7a0+lVeMVV5hVNdLxNftmyZdZn4jTfeWO06cXFxRpLp3r37r479Ux06dDDDhw+v0p6UlGSSkpJctqd3797G19fX3HHHHWb58uVm0aJFZty4cSYkJMTlijxjjImIiKhyBV92drZ1tdrmzZtrXCPQ0Ag4QA1Ud5l4YGCg6dWrl1m+fLlxOp0u/U+ePGkmT55soqKijJ+fn+nSpYt58sknrX65ubnG19fX5Y3DGGMqKirMJZdcYqKioswPP/xgjDHWm89XX31lBg8ebIKDg014eLiZNWuWcTgcLuv/POAYY8zHH39shgwZYpo1a2aCg4PNoEGDzAcffFBlG//0pz+ZCy64wPj4+NTozftvf/ubiY2NNQEBASYuLs688cYbZtSoUSY2Ntbq82sBxxhj3n33XXP55ZeboKAgExoaaq655hrr0uSf2rhxo4mLizP+/v6mW7duZtWqVb94mfiECRPMqlWrTJcuXUxAQIC5+OKLq92WgoICM2HCBBMdHW38/PxMRESEueqqq8wLL7zg0u/gwYPm2muvNcHBwaZNmzbm/vvvNxs2bKhVwNm1a5cZPXq0ad68uWnZsqWZOHGiOXXqVLXrLFy40Egy8+bN+9Wxf6qmAceYH383p0+fbjp37mz8/f1NmzZtzGWXXWYWLVpkzpw549L3uuuuM5LMmjVrrLYzZ86Y4OBg4+/v/4vbAHgCL2Nq8FGoANzm1ltvVXp6usvpIE/Vq1cvtW3bVpmZmW55fi8vL02YMKHK6cHG5JlnntHkyZN14MCBaq+MAlAzzMEBUGvl5eUu8zUkafPmzfrss880cOBA9xRlA8YYvfjii0pKSiLcAHXEVVQAau3QoUNKTk7WTTfdpKioKO3evVsrVqxQRESE/ud//uecPa+Xl5dmzZql2bNnn7PncIeSkhK98cYbev/997Vz5069/vrr7i4JaPQIOABqrWXLlurTp4/+93//V0ePHlVISIiGDx+uJ554Qq1bt3Z3eY3O0aNHdeONN6pFixaaMWOGrr32WneXBDR6zMEB0GicPn1avr6+Ve7eDgA/R8AB4NGcTqfOnDmjwMBAd5cCoBFhkjGABjF79mx5eXlp9+7duv766xUaGqrWrVvr/vvv1+nTp61+lTcSfeWVV3ThhRcqICBAGzZssJb9fP7NoUOHdPvttysqKkoBAQGKiYnR3Xffbd0bTPrxQ+wmTZqk6OhoBQQEqHPnzlqwYIF12wYA9sNxXgAN6vrrr1fHjh01f/585eTk6Nlnn9UPP/ygl19+2erz3nvv6e9//7smTpyoNm3a/OLtKA4fPqxLL71Ux48f1/jx4xUbG6tDhw4pPT1dpaWl8vf3V2lpqZKSknTo0CHdddddat++vT744ANNnz5dR44c0ZIlSxpmwwE0KAIOgAYVExNjXSU0YcIEhYaG6vnnn9e0adOsm1zu2bNHO3fuVI8ePX51rOnTpys/P1/bt29X3759rfa5c+daN5lcvHixvvrqK33yySfWXb3vuusuRUVF6cknn9TUqVOte3IBsA9OUQFoUBMmTHB5fO+990qS3nrrLastKSnprOHG6XRq/fr1uuaaa1zCTaXKm2OuXbtWiYmJatmypY4dO2Z9JScny+FwaOvWrXXdJAAeiCM4ABpU5VGUSp06dZK3t7fLDUF/euftX3L06FEVFRUpLi7uV/vt3btX//73v607if9cYWHh2YsG0OgQcAC4VeWRlp8KCgqqt/GdTqdSUlL04IMPVru8a9eu9fZcADwHAQdAg9q7d6/LEZp9+/bJ6XT+4kTiX9K2bVuFhoYqLy/vV/t16tRJxcXFSk5O/i3lAmikmIMDoEEtW7bM5fFzzz0nSRo6dGitxvH29lZqaqr++c9/6qOPPqqyvHKS8fXXX6/s7Gy98847VfocP368yj21ANgDR3AANKj9+/fr2muv1dVXX63s7GytWrVKN954oy666KJajzVv3jxt3LhRSUlJGj9+vLp3764jR45o7dq12rZtm1q0aKEHHnhAb7zxhkaMGKFbb71Vffr0UUlJiXbu3Kn09HQdOHBAbdq0OQdbCsCdCDgAGtSaNWs0c+ZMPfTQQ/L19dXEiRP15JNP/qaxzjvvPG3fvl2PPPKIXnnlFRUVFem8887T0KFDFRwcLEkKDg7Wli1bNG/ePK1du1Yvv/yyQkND1bVrV82ZM0dhYWH1uXkAPAS3agDQIGbPnq05c+bo6NGjHDEBcM4xBwcAANgOAQcAANgOAQcAANgOc3AAAIDtcAQHAADYDgEHAADYTqP8HByn06nDhw+refPm1d7HBgAA2I8xRidPnlRUVJS8vX/9GE2jDDiHDx9WdHS0u8sAAABu8O233+r888//1T6NMuA0b95c0o8bGBoa6uZq0NDKy8u1ceNGDR48WH5+fu4uB0AD4vXftBUVFSk6OtrKAb+mUQacytNSoaGhBJwmqLy8XMHBwQoNDeUPHNDE8PqHpBpNT2GSMQAAsB0CDgAAsB0CDgAAsB0CDgAAsB0CDgAAsB0CDgAAsB0CDgAAsB0CDgAAsB0CDhoVh8OhLVu2aOvWrdqyZYscDoe7SwIAeCACDhqNdevWqXPnzkpJSdHixYuVkpKizp07a926de4uDQDgYQg4aBTWrVun0aNHKz4+XllZWVq9erWysrIUHx+v0aNHE3IAAC4IOPB4DodDU6dO1YgRI7R+/Xr169dPQUFB6tevn9avX68RI0Zo2rRpnK4CAFgIOPB4WVlZOnDggGbMmCFvb9dfWW9vb02fPl379+9XVlaWmyoEAHgaAg483pEjRyRJcXFx1S6vbK/sBwAAAQceLzIyUpKUl5dX7fLK9sp+AAAQcODxEhMT1bFjR82bN09Op9NlmdPp1Pz58xUTE6PExEQ3VQgA8DQEHHg8Hx8fPfXUU8rIyFBqaqpycnJ06tQp5eTkKDU1VRkZGVq0aJF8fHzcXSoAwEP4ursAoCbS0tKUnp6uqVOnasCAAVZ7TEyM0tPTlZaW5sbqAACehoCDRiMtLU0jR47U+++/r7fffltDhw7VoEGDOHID2EBpaal279591n7Fp8r0wc6v1LLNR2oWFHDW/rGxsQoODq6PEtHIEHDQqPj4+CgpKUklJSVKSkoi3AA2sXv3bvXp06fG/RfWsF9ubq569+7924pCo0bAAQC4XWxsrHJzc8/ab8+R45qydqcWXxevbpEtajQumiYCDgDA7YKDg2t0pMX74HcKyDql7nEXqVeH1g1QGRorrqICAAC2Q8ABAAC2Q8ABAAC2Q8ABAAC2Q8ABAAC2Q8ABAAC2Q8ABAAC2Q8ABAAC2Q8ABAAC2Q8ABAAC2Q8ABAAC2Q8ABAAC2Q8ABAAC2Q8ABAAC2Q8ABAAC2Q8ABAAC2Q8ABAAC2Q8ABAAC2U6uA43A49MgjjygmJkZBQUHq1KmTHn30URljrD7GGM2cOVORkZEKCgpScnKy9u7d6zLO999/r7Fjxyo0NFQtWrTQ7bffruLi4vrZIgAA0OTVKuAsWLBAy5cv19KlS/XFF19owYIFWrhwoZ577jmrz8KFC/Xss89qxYoV2r59u0JCQjRkyBCdPn3a6jN27Fh9/vnnyszMVEZGhrZu3arx48fX31YBAIAmzbc2nT/44AONHDlSw4cPlyR17NhRq1ev1o4dOyT9ePRmyZIlevjhhzVy5EhJ0ssvv6zw8HCtX79eY8aM0RdffKENGzboww8/VN++fSVJzz33nIYNG6ZFixYpKiqqPrcPAAA0QbUKOJdddpleeOEFffnll+ratas+++wzbdu2TYsXL5Yk7d+/X/n5+UpOTrbWCQsLU79+/ZSdna0xY8YoOztbLVq0sMKNJCUnJ8vb21vbt2/X7373uyrPW1ZWprKyMutxUVGRJKm8vFzl5eW122I0epX7nH0PND0VFRXWd/4GND212ee1CjgPPfSQioqKFBsbKx8fHzkcDj3++OMaO3asJCk/P1+SFB4e7rJeeHi4tSw/P1/t2rVzLcLXV61atbL6/Nz8+fM1Z86cKu0bN25UcHBwbTYBNpKZmenuEgA0sG+LJclXOTk5OpTn7mrQ0EpLS2vct1YB5+9//7teeeUVvfrqq7rwwgv16aefatKkSYqKitK4ceNqXWhNTZ8+XVOmTLEeFxUVKTo6WoMHD1ZoaOg5e154pvLycmVmZiolJUV+fn7uLgdAA/rsm++lnR+pf//+uqh9K3eXgwZWeQanJmoVcB544AE99NBDGjNmjCQpPj5eBw8e1Pz58zVu3DhFRERIkgoKChQZGWmtV1BQoF69ekmSIiIiVFhY6DJuRUWFvv/+e2v9nwsICFBAQECVdj8/P97gmjD2P9D0+Pr6Wt95/Tc9tdnntbqKqrS0VN7erqv4+PjI6XRKkmJiYhQREaFNmzZZy4uKirR9+3YlJCRIkhISEnT8+HHl5uZafd577z05nU7169evNuUAAABUq1ZHcK655ho9/vjjat++vS688EJ98sknWrx4sX7/+99Lkry8vDRp0iQ99thj6tKli2JiYvTII48oKipKqampkqTu3bvr6quv1p133qkVK1aovLxcEydO1JgxY7iCCgAA1ItaBZznnntOjzzyiO655x4VFhYqKipKd911l2bOnGn1efDBB1VSUqLx48fr+PHjuuKKK7RhwwYFBgZafV555RVNnDhRV111lby9vTVq1Cg9++yz9bdVAACgSfMyP/0Y4kaiqKhIYWFhOnHiBJOMm6Dy8nK99dZbGjZsGOfggSbm04PfKXV5jtbf3V+9OrR2dzloYLV5/+deVAAAwHYIOAAAwHYIOAAAwHYIOAAAwHYIOAAAwHYIOAAAwHYIOAAAwHYIOAAAwHYIOAAAwHYIOAAAwHYIOAAAwHYIOAAAwHYIOAAAwHYIOAAAwHYIOAAAwHYIOAAAwHYIOAAAwHYIOAAAwHYIOAAAwHYIOAAAwHYIOAAAwHYIOAAAwHYIOAAAwHYIOAAAwHYIOAAAwHYIOAAAwHYIOAAAwHYIOAAAwHYIOAAAwHYIOAAAwHYIOAAAwHYIOAAAwHYIOAAAwHYIOAAAwHYIOAAAwHYIOAAAwHYIOAAAwHYIOAAAwHYIOAAAwHYIOAAAwHYIOAAAwHYIOAAAwHYIOAAAwHYIOAAAwHYIOAAAwHYIOAAAwHYIOGhUHA6HtmzZoq1bt2rLli1yOBzuLgkA4IEIOGg01q1bp86dOyslJUWLFy9WSkqKOnfurHXr1rm7NACAhyHgoFFYt26dRo8erfj4eGVlZWn16tXKyspSfHy8Ro8eTcgBALgg4MDjORwOTZ06VSNGjND69evVr18/BQUFqV+/flq/fr1GjBihadOmcboKAGAh4MDjZWVl6cCBA5oxY4a8vV1/Zb29vTV9+nTt379fWVlZbqoQAOBpCDjweEeOHJEkxcXFVbu8sr2yHwAABBx4vMjISElSXl5etcsr2yv7AQBAwIHHS0xMVMeOHTVv3jw5nU6XZU6nU/Pnz1dMTIwSExPdVCEAwNMQcODxfHx89NRTTykjI0OpqanKycnRqVOnlJOTo9TUVGVkZGjRokXy8fFxd6kAAA/h6+4CgJpIS0tTenq6pk6dqgEDBljtMTExSk9PV1pamhurAwB4GgIOGo20tDSNHDlS77//vt5++20NHTpUgwYN4sgNAKAKAg4aFR8fHyUlJamkpERJSUmEGwBAtZiDAwAAbIeAAwAAbIeAAwAAbIeAAwAAbIeAAwAAbIeAAwAAbIeAAwAAbIeAAwAAbKfWAefQoUO66aab1Lp1awUFBSk+Pl4fffSRtdwYo5kzZyoyMlJBQUFKTk7W3r17Xcb4/vvvNXbsWIWGhqpFixa6/fbbVVxcXPetAQAAUC0Dzg8//KDLL79cfn5+evvtt7Vr1y499dRTatmypdVn4cKFevbZZ7VixQpt375dISEhGjJkiE6fPm31GTt2rD7//HNlZmYqIyNDW7du1fjx4+tvqwAAQJNWq1s1LFiwQNHR0XrppZestpiYGOvfxhgtWbJEDz/8sEaOHClJevnllxUeHq7169drzJgx+uKLL7RhwwZ9+OGH6tu3ryTpueee07Bhw7Ro0SJFRUXVx3YBAIAmrFYB54033tCQIUN03XXXacuWLTrvvPN0zz336M4775Qk7d+/X/n5+UpOTrbWCQsLU79+/ZSdna0xY8YoOztbLVq0sMKNJCUnJ8vb21vbt2/X7373uyrPW1ZWprKyMutxUVGRJKm8vFzl5eW122I0epX7nH0PND0VFRXWd/4GND212ee1Cjhff/21li9frilTpmjGjBn68MMPdd9998nf31/jxo1Tfn6+JCk8PNxlvfDwcGtZfn6+2rVr51qEr69atWpl9fm5+fPna86cOVXaN27cqODg4NpsAmwkMzPT3SUAaGDfFkuSr3JycnQoz93VoKGVlpbWuG+tAo7T6VTfvn01b948SdLFF1+svLw8rVixQuPGjatdlbUwffp0TZkyxXpcVFSk6OhoDR48WKGhoefseeGZysvLlZmZqZSUFPn5+bm7HAAN6LNvvpd2fqT+/fvrovat3F0OGljlGZyaqFXAiYyMVI8ePVzaunfvrn/84x+SpIiICElSQUGBIiMjrT4FBQXq1auX1aewsNBljIqKCn3//ffW+j8XEBCggICAKu1+fn68wTVh7H+g6fH19bW+8/pvemqzz2t1FdXll1+uPXv2uLR9+eWX6tChg6QfJxxHRERo06ZN1vKioiJt375dCQkJkqSEhAQdP35cubm5Vp/33ntPTqdT/fr1q005AAAA1arVEZzJkyfrsssu07x583T99ddrx44deuGFF/TCCy9Ikry8vDRp0iQ99thj6tKli2JiYvTII48oKipKqampkn484nP11Vfrzjvv1IoVK1ReXq6JEydqzJgxXEEFAADqRa0CziWXXKLXXntN06dP19y5cxUTE6MlS5Zo7NixVp8HH3xQJSUlGj9+vI4fP64rrrhCGzZsUGBgoNXnlVde0cSJE3XVVVfJ29tbo0aN0rPPPlt/WwUAAJo0L2OMcXcRtVVUVKSwsDCdOHGCScZNjMPh0Pvvv6+3335bQ4cO1aBBg+Tj4+PusgA0kE8PfqfU5Tlaf3d/9erQ2t3loIHV5v2fe1Gh0Vi3bp06d+6slJQULV68WCkpKercubPWrVvn7tIAAB6GgINGYd26dRo9erTi4+OVlZWl1atXKysrS/Hx8Ro9ejQhBwDggoADj+dwODR16lSNGDFC69evV79+/RQUFKR+/fpp/fr1GjFihKZNmyaHw+HuUgEAHoKAA4+XlZWlAwcOaMaMGfL2dv2V9fb21vTp07V//35lZWW5qUIAgKch4MDjHTlyRJIUFxdX7fLK9sp+AAAQcODxKj8VOy+v+hvPVLb/9NOzAQBNGwEHHi8xMVEdO3bUvHnz5HQ6XZY5nU7Nnz9fMTExSkxMdFOFAABPQ8CBx/Px8dFTTz2ljIwMpaamKicnR6dOnVJOTo5SU1OVkZGhRYsW8Xk4AABLrT7JGHCXtLQ0paena+rUqRowYIDVHhMTo/T0dKWlpbmxOgCApyHgoNFIS0vTyJEj+SRjAMBZEXDQqPj4+CgpKUklJSVKSkoi3AAAqsUcHAAAYDsEHAAAYDsEHAAAYDsEHAAAYDsEHAAAYDsEHAAAYDsEHAAAYDsEHAAAYDsEHAAAYDsEHAAAYDsEHAAAYDsEHAAAYDvcbBMAcM7tP1aikrKKOo/z1dES67uvb93fwkICfBXTJqTO48DzEHAAAOfU/mMlGrRoc72OOTV9Z72N9f60gYQcGyLgAADOqcojN0tu6KXO7ZrVbaxTZcrYnK0RAxMUEhRQp7H2FRZr0ppP6+XIEjwPAQcA0CA6t2umuPPC6jRGeXm58ttKvTu0lJ+fXz1VBjtikjEAALAdAg4AALAdAg4AALAdAg4AALAdAg4AALAdAg4AALAdAg4AALAdAg4AALAdAg4AALAdAg4AALAdAg4AALAdAg4AALAdAg4AALAdAg4AALAdAg4AALAdAg4AALAdAg4AALAdAg4AALAdAg4AALAdAg4AALAdAg4AALAdAg4AALAdAg4AALAdAg4AALAdAg4AALAdAg4AALAdAg4AALAdAg4AALAdAg4AALAdAg4AALAdAg4AALAdAg4aFYfDoS1btmjr1q3asmWLHA6Hu0sCAHggX3cXANTUunXrNHXqVB04cECStHjxYnXs2FFPPfWU0tLS3FscgF9U5jgt78BD2l+0R96Bzeo0VkVFhQ5XHNYX338hX9+6vYXtLyqWd+AhlTlOSwqr01jwPAQcNArr1q3T6NGjNWLECP31r3/Vf/7zH51//vlauHChRo8erfT0dEIO4KEOlxxUSMxzmrGj/sZ8fsPz9TJOSIx0uKSX+ii8XsaD5yDgwOM5HA5NnTpVI0aM0Pr16+VwOPTdd9+pX79+Wr9+vVJTUzVt2jSNHDlSPj4+7i4XwM9EhXRQyf579cwNvdSpXd2P4Pxr2790+RWX1/kIzleFxbp/zaeKGtShTuPAMxFw4PGysrJ04MABrV69Wt7e3i7zbry9vTV9+nRddtllysrK0sCBA91XKIBqBfgEynn6PMWEdlOP1nU7FVReXq79vvvVvVV3+fn51Wks5+kTcp4+qgCfwDqNA8/EJGN4vCNHjkiS4uLiql1e2V7ZDwAAAg48XmRkpCQpLy+v2uWV7ZX9AAAg4MDjJSYmqmPHjpo3b56cTqfLMqfTqfnz5ysmJkaJiYluqhAA4GnqFHCeeOIJeXl5adKkSVbb6dOnNWHCBLVu3VrNmjXTqFGjVFBQ4LLeN998o+HDhys4OFjt2rXTAw88oIqKirqUAhvz8fHRU089pYyMDI0cOVLLly/Xu+++q+XLl2vkyJHKyMjQokWLmGAMALD85knGH374of74xz+qZ8+eLu2TJ0/Wm2++qbVr1yosLEwTJ05UWlqa/vWvf0n68YqY4cOHKyIiQh988IGOHDmiW265RX5+fpo3b17dtga2lZaWpmnTpunpp59WRkaG1e7r66tp06ZxiTgAwMVvOoJTXFyssWPH6k9/+pNatmxptZ84cUIvvviiFi9erCuvvFJ9+vTRSy+9pA8++EA5OTmSpI0bN2rXrl1atWqVevXqpaFDh+rRRx/VsmXLdObMmfrZKtjOunXrtGjRIl199dV65plnNHHiRD3zzDO6+uqrtWjRIq1bt87dJQIAPMhvOoIzYcIEDR8+XMnJyXrssces9tzcXJWXlys5Odlqi42NVfv27ZWdna3+/fsrOztb8fHxCg//74cqDRkyRHfffbc+//xzXXzxxVWer6ysTGVlZdbjoqIiST9eLlheXv5bNgGNSOXn4AwbNkzp6elyOBzKzMxUSkqK7rrrLo0aNUrTpk3TsGHDOE0FeKDKKQgVFRV1/ptduX59/O2vz7rQMGqzn2odcP72t7/p448/1ocfflhlWX5+vvz9/dWiRQuX9vDwcOXn51t9fhpuKpdXLqvO/PnzNWfOnCrtGzduVHBwcG03AY3Mzp07deDAAd19993asGGD1Z6ZmSnpx0nIb775phYtWqT4+Hh3lQngF3xbLEm+2rZtmw7W7XP+LJWv/7o4F3Xh3CotLa1x31oFnG+//Vb333+/MjMzFRjYcB+MNH36dE2ZMsV6XFRUpOjoaA0ePFihoaENVgfco/KI3Z133qlmzZqpvLzcOoLj5+enxMREPfTQQ+rQoYOGDRvm5moB/Nznh4u0aGeOrrjiCl0YVbe/2T9//XtKXWgYle8HNVGrgJObm6vCwkL17t3banM4HNq6dauWLl2qd955R2fOnNHx48ddjuIUFBQoIiJCkhQREaEdO1xvSFJ5lVVln58LCAhQQEBAlXY/P786/4LD80VHR0uS9uzZo/79+1vtlft/z549Vj9+HwDPU3lLBV9f33p7jdbH3/9zURfOrdrsp1pNMr7qqqu0c+dOffrpp9ZX3759NXbsWOvffn5+2rRpk7XOnj179M033yghIUGSlJCQoJ07d6qwsNDqk5mZqdDQUPXo0aM25aCJ4HNwAAC1VasjOM2bN6/ycfkhISFq3bq11X777bdrypQpatWqlUJDQ3XvvfcqISHB+p/34MGD1aNHD918881auHCh8vPz9fDDD2vChAnVHqUBKj8HZ/To0UpNTdUDDzygU6dOKScnR08++aQyMjKUnp7OBGMAgKXeb7b59NNPy9vbW6NGjVJZWZmGDBmi55//723tfXx8lJGRobvvvlsJCQkKCQnRuHHjNHfu3PouBTaSlpam9PR0TZ06VQMGDLDaY2JilJ6ezufgAABc1DngbN682eVxYGCgli1bpmXLlv3iOh06dNBbb71V16dGE5OWlqaRI0fq/fff19tvv62hQ4dq0KBBHLkBAFRR70dwgHPJx8dHSUlJKikpUVJSEuEGAFAtbrYJAABsh4ADAABsh4ADAABsh4ADAABsh4ADAABsh4ADAABsh4ADAABsh8/BgccoLS3V7t27z9qv+FSZPtj5lVq2+UjNgs5+e4/Y2FgFBwfXR4kAgEaCgAOPsXv3bvXp06fG/RfWsF9ubq569+7924oCADRKBBx4jNjYWOXm5p61354jxzVl7U4tvi5e3SJb1GhcAEDTQsCBxwgODq7RkRbvg98pIOuUusddpF4dWjdAZQCAxoZJxgAAwHYIOAAAwHYIOAAAwHYIOAAAwHYIOAAAwHYIOAAAwHYIOAAAwHYIOAAAwHYIOAAAwHYIOAAAwHYIOAAAwHYIOAAAwHYIOAAAwHYIOAAAwHYIOAAAwHYIOAAAwHYIOAAAwHYIOAAAwHYIOAAAwHYIOAAAwHYIOAAAwHYIOAAAwHYIOAAAwHYIOAAAwHYIOAAAwHYIOAAAwHYIOAAAwHYIOAAAwHYIOAAAwHYIOAAAwHYIOAAAwHYIOAAAwHYIOAAAwHYIOAAAwHYIOAAAwHZ83V0AAMDeTpU7JEl5h07UeaySU2X66KgUcfAHhQQF1GmsfYXFda4HnouAAwA4p776vyDx0Lqd9TSir/6678N6GksKCeCt0I7YqwCAc2rwhRGSpE7tminIz6dOY+05ckJT03fqqdHx6hYZVufaQgJ8FdMmpM7jwPMQcAAA51SrEH+NubR9vYxVUVEhSerUNkRx59U94MC+mGQMAABsh4ADAABsh4ADAABshzk4aDD7j5WopKyizuN8dbTE+u7rW/dfYSYZAoD9EHDQIPYfK9GgRZvrdcyp6fV1yan0/rSBhBwAsBECDhpE5ZGbJTf0Uud2zeo21qkyZWzO1oiBCfXyQV+T1nxaL0eWAACeg4CDBtW5XbM6X9pZXl6u/LZS7w4t5efnV0+VAQDshEnGAADAdgg4AADAdgg4AADAdgg4AADAdgg4AADAdgg4AADAdgg4AADAdgg4AADAdgg4AADAdmoVcObPn69LLrlEzZs3V7t27ZSamqo9e/a49Dl9+rQmTJig1q1bq1mzZho1apQKCgpc+nzzzTcaPny4goOD1a5dOz3wwAOqqOCj8gEAQP2oVcDZsmWLJkyYoJycHGVmZqq8vFyDBw9WSUmJ1Wfy5Mn65z//qbVr12rLli06fPiw0tLSrOUOh0PDhw/XmTNn9MEHH+gvf/mLVq5cqZkzZ9bfVgEAgCatVvei2rBhg8vjlStXql27dsrNzdWAAQN04sQJvfjii3r11Vd15ZVXSpJeeuklde/eXTk5Oerfv782btyoXbt26d1331V4eLh69eqlRx99VH/4wx80e/Zs+fv7V3nesrIylZWVWY+Liook/XhPovLy8lpvNBpe5RG6ioqKOu+zyvXrY9/XZ10Azj1es01bbfZ5nW62eeLECUlSq1atJEm5ubkqLy9XcnKy1Sc2Nlbt27dXdna2+vfvr+zsbMXHxys8PNzqM2TIEN199936/PPPdfHFF1d5nvnz52vOnDlV2jdu3Kjg4OC6bAIayLfFkuSrbdu26WDdbiZuyczMrPMY56IuAOdO5Ws2JydHh/LcXQ0aWmlpaY37/uaA43Q6NWnSJF1++eWKi4uTJOXn58vf318tWrRw6RseHq78/Hyrz0/DTeXyymXVmT59uqZMmWI9LioqUnR0tAYPHqzQ0NDfugloQJ8fLtKinTm64oordGFU3fZZeXm5MjMzlZKSUue7iddnXQDOvc+++V7a+ZH69++vi9q3cnc5aGCVZ3Bq4jcHnAkTJigvL0/btm37rUPUWEBAgAICAqq0+/n51fkNDg3D19fX+l5f+6w+9v+5qAvAucNrtmmrzT7/TQFn4sSJysjI0NatW3X++edb7RERETpz5oyOHz/uchSnoKBAERERVp8dO3a4jFd5lVVlH9hPmeO0vAMPaX/RHnkH1u1cUEVFhQ5XHNYX339h/bH7rfYXFcs78JDKHKclhdVpLACA56jVu4MxRvfee69ee+01bd68WTExMS7L+/TpIz8/P23atEmjRo2SJO3Zs0fffPONEhISJEkJCQl6/PHHVVhYqHbt2kn6cS5FaGioevToUR/bBA90uOSgQmKe04wdZ+9bU89veL5exgmJkQ6X9FIfhZ+9MwCgUahVwJkwYYJeffVVvf7662revLk1ZyYsLExBQUEKCwvT7bffrilTpqhVq1YKDQ3Vvffeq4SEBPXv31+SNHjwYPXo0UM333yzFi5cqPz8fD388MOaMGFCtaehYA9RIR1Usv9ePXNDL3VqV/cjOP/a9i9dfsXldT6C81Vhse5f86miBnWo0zgAAM9Sq3eH5cuXS5IGDhzo0v7SSy/p1ltvlSQ9/fTT8vb21qhRo1RWVqYhQ4bo+ef/+z9tHx8fZWRk6O6771ZCQoJCQkI0btw4zZ07t25bAo8W4BMo5+nzFBPaTT1a1+1UUHl5ufb77lf3Vt3rfA7eefqEnKePKsAnsE7jAAA8S61PUZ1NYGCgli1bpmXLlv1inw4dOuitt96qzVMDAADUGPeiAgAAtkPAAQAAtkPAAQAAtkPAAQAAtkPAAQAAtkPAAQAAtkPAAQAAtlO3j4EFAKAelJaWavfu3Wftt+fIcZXl79MXeUFyftfirP1jY2MVHBxcDxWisSHgAADcbvfu3erTp0+N+9/4l5r1y83NVe/evX9jVWjMCDgAALeLjY1Vbm7uWfsVnyrTm+9na/igBDULOvv9C2NjY+ujPDRCBBwAgNsFBwfX6EhLeXm5fjhWqIRL+9b5XnSwNyYZAwAA2yHgAAAA2yHgAAAA2yHgAAAA2yHgAAAA2+EqKjSIU+UOSVLeoRN1HqvkVJk+OipFHPxBITW4TPTX7CssrnM9AADPQ8BBg/jq/4LEQ+t21tOIvvrrvg/raSwpJICXAgDYCX/V0SAGXxghSerUrpmC/HzqNNaeIyc0NX2nnhodr26RYXWuLSTAVzFtQuo8DgDAcxBw0CBahfhrzKXt62WsiooKSVKntiGKO6/uAQcAYD9MMgYAALZDwAEAALZDwAEAALZDwAEAALZDwAEAALZDwAEAALZDwAEAALZDwAEAALZDwAEAALZDwAEAALZDwAEAALZDwAEAALZDwAEAALZDwAEAALZDwAEAALZDwAEAALZDwAEAALZDwAEAALZDwAEAALZDwAEAALZDwAEAALZDwAEAALZDwAEAALZDwAEAALZDwAEAALZDwAEAALZDwAEAALZDwAEAALZDwAEAALZDwAEAALZDwAEAALZDwAEAALZDwAEAALZDwAEAALZDwAEAALZDwAEAALbj6+4CgEqlpaXavXv3WfvtOXJcZfn79EVekJzftThr/9jYWAUHB9dDhQCAxoKAA4+xe/du9enTp8b9b/xLzfrl5uaqd+/ev7EqAEBjRMCBx4iNjVVubu5Z+xWfKtOb72dr+KAENQsKqNG4AICmhYADjxEcHFyjIy3l5eX64VihEi7tKz8/vwaoDADQ2DDJGAAA2A4BBwAA2A4BBwAA2A4BBwAA2A4BBwAA2A4BBwAA2I7bAs6yZcvUsWNHBQYGql+/ftqxY4e7SgEAADbjloCzZs0aTZkyRbNmzdLHH3+siy66SEOGDFFhYaE7ygEAADbjloCzePFi3XnnnbrtttvUo0cPrVixQsHBwfrzn//sjnIAAIDNNPgnGZ85c0a5ubmaPn261ebt7a3k5GRlZ2dXu05ZWZnKysqsx0VFRZJ+/ETb8vLyc1swPE7lPmffA00Pr/+mrTb7vcEDzrFjx+RwOBQeHu7SHh4e/ot3kp4/f77mzJlTpX3jxo3cJboJy8zMdHcJANyE13/TVFpaWuO+jeJeVNOnT9eUKVOsx0VFRYqOjtbgwYMVGhrqxsrgDuXl5crMzFRKSgr3ogKaGF7/TVvlGZyaaPCA06ZNG/n4+KigoMClvaCgQBEREdWuExAQoICAqneN9vPz4xe8CWP/A00Xr/+mqTb7vMEDjr+/v/r06aNNmzYpNTVVkuR0OrVp0yZNnDixRmMYYyTVLsnBPsrLy1VaWqqioiL+wAFNDK//pq3yfb8yB/wat5yimjJlisaNG6e+ffvq0ksv1ZIlS1RSUqLbbrutRuufPHlSkhQdHX0uywQAAB7o5MmTCgsL+9U+bgk4N9xwg44ePaqZM2cqPz9fvXr10oYNG6pMPP4lUVFR+vbbb9W8eXN5eXmd42rhaSrnYH377bfMwQKaGF7/TZsxRidPnlRUVNRZ+3qZmhznATxIUVGRwsLCdOLECf7AAU0Mr3/UFPeiAgAAtkPAAQAAtkPAQaMTEBCgWbNmVfvRAQDsjdc/aoo5OAAAwHY4ggMAAGyHgAMAAGyHgAMAAGyHgAMAAGyHgINGZ9myZerYsaMCAwPVr18/7dixw90lATjHtm7dqmuuuUZRUVHy8vLS+vXr3V0SPBwBB43KmjVrNGXKFM2aNUsff/yxLrroIg0ZMkSFhYXuLg3AOVRSUqKLLrpIy5Ytc3cpaCS4TByNSr9+/XTJJZdo6dKlkn68E310dLTuvfdePfTQQ26uDkBD8PLy0muvvabU1FR3lwIPxhEcNBpnzpxRbm6ukpOTrTZvb28lJycrOzvbjZUBADwNAQeNxrFjx+RwOKrcdT48PFz5+fluqgoA4IkIOAAAwHYIOGg02rRpIx8fHxUUFLi0FxQUKCIiwk1VAQA8EQEHjYa/v7/69OmjTZs2WW1Op1ObNm1SQkKCGysDAHgaX3cXANTGlClTNG7cOPXt21eXXnqplixZopKSEt12223uLg3AOVRcXKx9+/ZZj/fv369PP/1UrVq1Uvv27d1YGTwVl4mj0Vm6dKmefPJJ5efnq1evXnr22WfVr18/d5cF4BzavHmzBg0aVKV93LhxWrlyZcMXBI9HwAEAALbDHBwAAGA7BBwAAGA7BBwAAGA7BBwAAGA7BBwAAGA7BBwAAGA7BBwAAGA7BBwAAGA7BBwAAGA7BBwAAGA7BBwAAGA7BBwAbjVw4EDdd999evDBB9WqVStFRERo9uzZ1vLjx4/rjjvuUNu2bRUaGqorr7xSn332mSTpxIkT8vHx0UcffSRJcjqdatWqlfr372+tv2rVKkVHRzfoNgFwPwIOALf7y1/+opCQEG3fvl0LFy7U3LlzlZmZKUm67rrrVFhYqLffflu5ubnq3bu3rrrqKn3//fcKCwtTr169tHnzZknSzp075eXlpU8++UTFxcWSpC1btigpKcldmwbATQg4ANyuZ8+emjVrlrp06aJbbrlFffv21aZNm7Rt2zbt2LFDa9euVd++fdWlSxctWrRILVq0UHp6uqQfjwBVBpzNmzcrJSVF3bt317Zt26w2Ag7Q9Pi6uwAA6Nmzp8vjyMhIFRYW6rPPPlNxcbFat27tsvzUqVP66quvJElJSUl68cUX5XA4tGXLFg0ePFgRERHavHmzevbsqX379mngwIENtSkAPAQBB4Db+fn5uTz28vKS0+lUcXGxIiMjrSM0P9WiRQtJ0oABA3Ty5El9/PHH2rp1q+bNm6eIiAg98cQTuuiiixQVFaUuXbo0wFYA8CQEHAAeq3fv3srPz5evr686duxYbZ8WLVqoZ8+eWrp0qfz8/BQbG6t27drphhtuUEZGBqengCaKOTgAPFZycrISEhKUmpqqjRs36sCBA/rggw/0//7f/7OunJJ+nIfzyiuvWGGmVatW6t69u9asWUPAAZooAg4Aj+Xl5aW33npLAwYM0G233aauXbtqzJgxOnjwoMLDw61+SUlJcjgcLnNtBg4cWKUNQNPhZYwx7i4CAACgPnEEBwAA2A4BBwAA2A4BBwAA2A4BBwAA2A4BBwAA2A4BBwAA2A4BBwAA2A4BBwAA2A4BBwAA2A4BBwAA2A4BBwAA2M7/ByMp3ZEdywgNAAAAAElFTkSuQmCC\n"
          },
          "metadata": {}
        }
      ],
      "source": [
        "houses.boxplot(column='price', by='new')"
      ]
    },
    {
      "cell_type": "markdown",
      "metadata": {
        "id": "RPnGSGxAlJiz"
      },
      "source": [
        "Part e. What is the relationship between size and price.  Justify your answer using the plots created. Do the same for the relationship between price and whether or not a house is new, again using the plot to justify your answer."
      ]
    },
    {
      "cell_type": "markdown",
      "metadata": {
        "id": "5EtTPGpylJiz"
      },
      "source": [
        "The relationship between price and size seems to be linear. The bigger the house, the more expensive the house is. This can be seen when looking the the scatter plot with the regression line on top. The regression line does an arguably good job at fitting the dots of the scatter plot, thus leading to the conclusion that the relationship seems to be linear as described before."
      ]
    },
    {
      "cell_type": "markdown",
      "source": [
        "The relationship between new vs old seems to be similar to size, in that the newer the house the more expensive. You can see on the boxplot that every measure of the 5 number summary shows that a new house is more expensive than older homes."
      ],
      "metadata": {
        "id": "Cm4ibUGja-Ct"
      }
    },
    {
      "cell_type": "markdown",
      "metadata": {
        "id": "QsOTfwzI9alX"
      },
      "source": [
        "**Problem 5**. Using the Happy data file read in by the following code. Construct the contingency table relating marital status and happiness."
      ]
    },
    {
      "cell_type": "code",
      "execution_count": 44,
      "metadata": {
        "id": "l8w2lvz2lJiz"
      },
      "outputs": [],
      "source": [
        "happy = pd.read_fwf(\"https://stat4ds.rwth-aachen.de/data/Happy.dat\")"
      ]
    },
    {
      "cell_type": "code",
      "execution_count": 46,
      "metadata": {
        "id": "NP3JwT9o9btJ",
        "colab": {
          "base_uri": "https://localhost:8080/",
          "height": 206
        },
        "outputId": "f53a40a7-3c94-4e79-a7af-6c160a276b08"
      },
      "outputs": [
        {
          "output_type": "execute_result",
          "data": {
            "text/plain": [
              "happiness         1   1     1   1     2  1     3        2   2     1   2     2  \\\n",
              "marital                                                                         \n",
              "fe         0.304462  0.000000  0.000000  0.00000  0.56168  0.000000  0.000000   \n",
              "fem        0.000000  1.000000  0.000000  0.00000  0.00000  0.000000  0.000000   \n",
              "mal        0.000000  0.119553  0.036872  0.06257  0.00000  0.255866  0.127374   \n",
              "male       0.000000  1.000000  0.000000  0.00000  0.00000  0.000000  0.000000   \n",
              "\n",
              "happiness   2     3         3   3     1   3     2   3     3  \n",
              "marital                                                      \n",
              "fe         0.000000  0.133858  0.000000  0.000000  0.000000  \n",
              "fem        0.000000  0.000000  0.000000  0.000000  0.000000  \n",
              "mal        0.234637  0.000000  0.036872  0.050279  0.075978  \n",
              "male       0.000000  0.000000  0.000000  0.000000  0.000000  "
            ],
            "text/html": [
              "\n",
              "  <div id=\"df-1dbf86ed-dfc1-4d91-8273-f80e0b054d22\" class=\"colab-df-container\">\n",
              "    <div>\n",
              "<style scoped>\n",
              "    .dataframe tbody tr th:only-of-type {\n",
              "        vertical-align: middle;\n",
              "    }\n",
              "\n",
              "    .dataframe tbody tr th {\n",
              "        vertical-align: top;\n",
              "    }\n",
              "\n",
              "    .dataframe thead th {\n",
              "        text-align: right;\n",
              "    }\n",
              "</style>\n",
              "<table border=\"1\" class=\"dataframe\">\n",
              "  <thead>\n",
              "    <tr style=\"text-align: right;\">\n",
              "      <th>happiness</th>\n",
              "      <th>1</th>\n",
              "      <th>1     1</th>\n",
              "      <th>1     2</th>\n",
              "      <th>1     3</th>\n",
              "      <th>2</th>\n",
              "      <th>2     1</th>\n",
              "      <th>2     2</th>\n",
              "      <th>2     3</th>\n",
              "      <th>3</th>\n",
              "      <th>3     1</th>\n",
              "      <th>3     2</th>\n",
              "      <th>3     3</th>\n",
              "    </tr>\n",
              "    <tr>\n",
              "      <th>marital</th>\n",
              "      <th></th>\n",
              "      <th></th>\n",
              "      <th></th>\n",
              "      <th></th>\n",
              "      <th></th>\n",
              "      <th></th>\n",
              "      <th></th>\n",
              "      <th></th>\n",
              "      <th></th>\n",
              "      <th></th>\n",
              "      <th></th>\n",
              "      <th></th>\n",
              "    </tr>\n",
              "  </thead>\n",
              "  <tbody>\n",
              "    <tr>\n",
              "      <th>fe</th>\n",
              "      <td>0.304462</td>\n",
              "      <td>0.000000</td>\n",
              "      <td>0.000000</td>\n",
              "      <td>0.00000</td>\n",
              "      <td>0.56168</td>\n",
              "      <td>0.000000</td>\n",
              "      <td>0.000000</td>\n",
              "      <td>0.000000</td>\n",
              "      <td>0.133858</td>\n",
              "      <td>0.000000</td>\n",
              "      <td>0.000000</td>\n",
              "      <td>0.000000</td>\n",
              "    </tr>\n",
              "    <tr>\n",
              "      <th>fem</th>\n",
              "      <td>0.000000</td>\n",
              "      <td>1.000000</td>\n",
              "      <td>0.000000</td>\n",
              "      <td>0.00000</td>\n",
              "      <td>0.00000</td>\n",
              "      <td>0.000000</td>\n",
              "      <td>0.000000</td>\n",
              "      <td>0.000000</td>\n",
              "      <td>0.000000</td>\n",
              "      <td>0.000000</td>\n",
              "      <td>0.000000</td>\n",
              "      <td>0.000000</td>\n",
              "    </tr>\n",
              "    <tr>\n",
              "      <th>mal</th>\n",
              "      <td>0.000000</td>\n",
              "      <td>0.119553</td>\n",
              "      <td>0.036872</td>\n",
              "      <td>0.06257</td>\n",
              "      <td>0.00000</td>\n",
              "      <td>0.255866</td>\n",
              "      <td>0.127374</td>\n",
              "      <td>0.234637</td>\n",
              "      <td>0.000000</td>\n",
              "      <td>0.036872</td>\n",
              "      <td>0.050279</td>\n",
              "      <td>0.075978</td>\n",
              "    </tr>\n",
              "    <tr>\n",
              "      <th>male</th>\n",
              "      <td>0.000000</td>\n",
              "      <td>1.000000</td>\n",
              "      <td>0.000000</td>\n",
              "      <td>0.00000</td>\n",
              "      <td>0.00000</td>\n",
              "      <td>0.000000</td>\n",
              "      <td>0.000000</td>\n",
              "      <td>0.000000</td>\n",
              "      <td>0.000000</td>\n",
              "      <td>0.000000</td>\n",
              "      <td>0.000000</td>\n",
              "      <td>0.000000</td>\n",
              "    </tr>\n",
              "  </tbody>\n",
              "</table>\n",
              "</div>\n",
              "    <div class=\"colab-df-buttons\">\n",
              "\n",
              "  <div class=\"colab-df-container\">\n",
              "    <button class=\"colab-df-convert\" onclick=\"convertToInteractive('df-1dbf86ed-dfc1-4d91-8273-f80e0b054d22')\"\n",
              "            title=\"Convert this dataframe to an interactive table.\"\n",
              "            style=\"display:none;\">\n",
              "\n",
              "  <svg xmlns=\"http://www.w3.org/2000/svg\" height=\"24px\" viewBox=\"0 -960 960 960\">\n",
              "    <path d=\"M120-120v-720h720v720H120Zm60-500h600v-160H180v160Zm220 220h160v-160H400v160Zm0 220h160v-160H400v160ZM180-400h160v-160H180v160Zm440 0h160v-160H620v160ZM180-180h160v-160H180v160Zm440 0h160v-160H620v160Z\"/>\n",
              "  </svg>\n",
              "    </button>\n",
              "\n",
              "  <style>\n",
              "    .colab-df-container {\n",
              "      display:flex;\n",
              "      gap: 12px;\n",
              "    }\n",
              "\n",
              "    .colab-df-convert {\n",
              "      background-color: #E8F0FE;\n",
              "      border: none;\n",
              "      border-radius: 50%;\n",
              "      cursor: pointer;\n",
              "      display: none;\n",
              "      fill: #1967D2;\n",
              "      height: 32px;\n",
              "      padding: 0 0 0 0;\n",
              "      width: 32px;\n",
              "    }\n",
              "\n",
              "    .colab-df-convert:hover {\n",
              "      background-color: #E2EBFA;\n",
              "      box-shadow: 0px 1px 2px rgba(60, 64, 67, 0.3), 0px 1px 3px 1px rgba(60, 64, 67, 0.15);\n",
              "      fill: #174EA6;\n",
              "    }\n",
              "\n",
              "    .colab-df-buttons div {\n",
              "      margin-bottom: 4px;\n",
              "    }\n",
              "\n",
              "    [theme=dark] .colab-df-convert {\n",
              "      background-color: #3B4455;\n",
              "      fill: #D2E3FC;\n",
              "    }\n",
              "\n",
              "    [theme=dark] .colab-df-convert:hover {\n",
              "      background-color: #434B5C;\n",
              "      box-shadow: 0px 1px 3px 1px rgba(0, 0, 0, 0.15);\n",
              "      filter: drop-shadow(0px 1px 2px rgba(0, 0, 0, 0.3));\n",
              "      fill: #FFFFFF;\n",
              "    }\n",
              "  </style>\n",
              "\n",
              "    <script>\n",
              "      const buttonEl =\n",
              "        document.querySelector('#df-1dbf86ed-dfc1-4d91-8273-f80e0b054d22 button.colab-df-convert');\n",
              "      buttonEl.style.display =\n",
              "        google.colab.kernel.accessAllowed ? 'block' : 'none';\n",
              "\n",
              "      async function convertToInteractive(key) {\n",
              "        const element = document.querySelector('#df-1dbf86ed-dfc1-4d91-8273-f80e0b054d22');\n",
              "        const dataTable =\n",
              "          await google.colab.kernel.invokeFunction('convertToInteractive',\n",
              "                                                    [key], {});\n",
              "        if (!dataTable) return;\n",
              "\n",
              "        const docLinkHtml = 'Like what you see? Visit the ' +\n",
              "          '<a target=\"_blank\" href=https://colab.research.google.com/notebooks/data_table.ipynb>data table notebook</a>'\n",
              "          + ' to learn more about interactive tables.';\n",
              "        element.innerHTML = '';\n",
              "        dataTable['output_type'] = 'display_data';\n",
              "        await google.colab.output.renderOutput(dataTable, element);\n",
              "        const docLink = document.createElement('div');\n",
              "        docLink.innerHTML = docLinkHtml;\n",
              "        element.appendChild(docLink);\n",
              "      }\n",
              "    </script>\n",
              "  </div>\n",
              "\n",
              "\n",
              "<div id=\"df-7696f142-8817-4056-8d42-8af94daa794a\">\n",
              "  <button class=\"colab-df-quickchart\" onclick=\"quickchart('df-7696f142-8817-4056-8d42-8af94daa794a')\"\n",
              "            title=\"Suggest charts\"\n",
              "            style=\"display:none;\">\n",
              "\n",
              "<svg xmlns=\"http://www.w3.org/2000/svg\" height=\"24px\"viewBox=\"0 0 24 24\"\n",
              "     width=\"24px\">\n",
              "    <g>\n",
              "        <path d=\"M19 3H5c-1.1 0-2 .9-2 2v14c0 1.1.9 2 2 2h14c1.1 0 2-.9 2-2V5c0-1.1-.9-2-2-2zM9 17H7v-7h2v7zm4 0h-2V7h2v10zm4 0h-2v-4h2v4z\"/>\n",
              "    </g>\n",
              "</svg>\n",
              "  </button>\n",
              "\n",
              "<style>\n",
              "  .colab-df-quickchart {\n",
              "      --bg-color: #E8F0FE;\n",
              "      --fill-color: #1967D2;\n",
              "      --hover-bg-color: #E2EBFA;\n",
              "      --hover-fill-color: #174EA6;\n",
              "      --disabled-fill-color: #AAA;\n",
              "      --disabled-bg-color: #DDD;\n",
              "  }\n",
              "\n",
              "  [theme=dark] .colab-df-quickchart {\n",
              "      --bg-color: #3B4455;\n",
              "      --fill-color: #D2E3FC;\n",
              "      --hover-bg-color: #434B5C;\n",
              "      --hover-fill-color: #FFFFFF;\n",
              "      --disabled-bg-color: #3B4455;\n",
              "      --disabled-fill-color: #666;\n",
              "  }\n",
              "\n",
              "  .colab-df-quickchart {\n",
              "    background-color: var(--bg-color);\n",
              "    border: none;\n",
              "    border-radius: 50%;\n",
              "    cursor: pointer;\n",
              "    display: none;\n",
              "    fill: var(--fill-color);\n",
              "    height: 32px;\n",
              "    padding: 0;\n",
              "    width: 32px;\n",
              "  }\n",
              "\n",
              "  .colab-df-quickchart:hover {\n",
              "    background-color: var(--hover-bg-color);\n",
              "    box-shadow: 0 1px 2px rgba(60, 64, 67, 0.3), 0 1px 3px 1px rgba(60, 64, 67, 0.15);\n",
              "    fill: var(--button-hover-fill-color);\n",
              "  }\n",
              "\n",
              "  .colab-df-quickchart-complete:disabled,\n",
              "  .colab-df-quickchart-complete:disabled:hover {\n",
              "    background-color: var(--disabled-bg-color);\n",
              "    fill: var(--disabled-fill-color);\n",
              "    box-shadow: none;\n",
              "  }\n",
              "\n",
              "  .colab-df-spinner {\n",
              "    border: 2px solid var(--fill-color);\n",
              "    border-color: transparent;\n",
              "    border-bottom-color: var(--fill-color);\n",
              "    animation:\n",
              "      spin 1s steps(1) infinite;\n",
              "  }\n",
              "\n",
              "  @keyframes spin {\n",
              "    0% {\n",
              "      border-color: transparent;\n",
              "      border-bottom-color: var(--fill-color);\n",
              "      border-left-color: var(--fill-color);\n",
              "    }\n",
              "    20% {\n",
              "      border-color: transparent;\n",
              "      border-left-color: var(--fill-color);\n",
              "      border-top-color: var(--fill-color);\n",
              "    }\n",
              "    30% {\n",
              "      border-color: transparent;\n",
              "      border-left-color: var(--fill-color);\n",
              "      border-top-color: var(--fill-color);\n",
              "      border-right-color: var(--fill-color);\n",
              "    }\n",
              "    40% {\n",
              "      border-color: transparent;\n",
              "      border-right-color: var(--fill-color);\n",
              "      border-top-color: var(--fill-color);\n",
              "    }\n",
              "    60% {\n",
              "      border-color: transparent;\n",
              "      border-right-color: var(--fill-color);\n",
              "    }\n",
              "    80% {\n",
              "      border-color: transparent;\n",
              "      border-right-color: var(--fill-color);\n",
              "      border-bottom-color: var(--fill-color);\n",
              "    }\n",
              "    90% {\n",
              "      border-color: transparent;\n",
              "      border-bottom-color: var(--fill-color);\n",
              "    }\n",
              "  }\n",
              "</style>\n",
              "\n",
              "  <script>\n",
              "    async function quickchart(key) {\n",
              "      const quickchartButtonEl =\n",
              "        document.querySelector('#' + key + ' button');\n",
              "      quickchartButtonEl.disabled = true;  // To prevent multiple clicks.\n",
              "      quickchartButtonEl.classList.add('colab-df-spinner');\n",
              "      try {\n",
              "        const charts = await google.colab.kernel.invokeFunction(\n",
              "            'suggestCharts', [key], {});\n",
              "      } catch (error) {\n",
              "        console.error('Error during call to suggestCharts:', error);\n",
              "      }\n",
              "      quickchartButtonEl.classList.remove('colab-df-spinner');\n",
              "      quickchartButtonEl.classList.add('colab-df-quickchart-complete');\n",
              "    }\n",
              "    (() => {\n",
              "      let quickchartButtonEl =\n",
              "        document.querySelector('#df-7696f142-8817-4056-8d42-8af94daa794a button');\n",
              "      quickchartButtonEl.style.display =\n",
              "        google.colab.kernel.accessAllowed ? 'block' : 'none';\n",
              "    })();\n",
              "  </script>\n",
              "</div>\n",
              "\n",
              "    </div>\n",
              "  </div>\n"
            ],
            "application/vnd.google.colaboratory.intrinsic+json": {
              "type": "dataframe",
              "summary": "{\n  \"name\": \"pd\",\n  \"rows\": 4,\n  \"fields\": [\n    {\n      \"column\": \"marital\",\n      \"properties\": {\n        \"dtype\": \"string\",\n        \"num_unique_values\": 4,\n        \"samples\": [\n          \"fem\",\n          \"male\",\n          \"fe\"\n        ],\n        \"semantic_type\": \"\",\n        \"description\": \"\"\n      }\n    },\n    {\n      \"column\": \"1\",\n      \"properties\": {\n        \"dtype\": \"number\",\n        \"std\": 0.15223097112860892,\n        \"min\": 0.0,\n        \"max\": 0.30446194225721784,\n        \"num_unique_values\": 2,\n        \"samples\": [\n          0.0,\n          0.30446194225721784\n        ],\n        \"semantic_type\": \"\",\n        \"description\": \"\"\n      }\n    },\n    {\n      \"column\": \"1     1\",\n      \"properties\": {\n        \"dtype\": \"number\",\n        \"std\": 0.5450280207643718,\n        \"min\": 0.0,\n        \"max\": 1.0,\n        \"num_unique_values\": 3,\n        \"samples\": [\n          0.0,\n          1.0\n        ],\n        \"semantic_type\": \"\",\n        \"description\": \"\"\n      }\n    },\n    {\n      \"column\": \"1     2\",\n      \"properties\": {\n        \"dtype\": \"number\",\n        \"std\": 0.018435754189944135,\n        \"min\": 0.0,\n        \"max\": 0.03687150837988827,\n        \"num_unique_values\": 2,\n        \"samples\": [\n          0.03687150837988827,\n          0.0\n        ],\n        \"semantic_type\": \"\",\n        \"description\": \"\"\n      }\n    },\n    {\n      \"column\": \"1     3\",\n      \"properties\": {\n        \"dtype\": \"number\",\n        \"std\": 0.03128491620111732,\n        \"min\": 0.0,\n        \"max\": 0.06256983240223464,\n        \"num_unique_values\": 2,\n        \"samples\": [\n          0.06256983240223464,\n          0.0\n        ],\n        \"semantic_type\": \"\",\n        \"description\": \"\"\n      }\n    },\n    {\n      \"column\": \"2\",\n      \"properties\": {\n        \"dtype\": \"number\",\n        \"std\": 0.28083989501312334,\n        \"min\": 0.0,\n        \"max\": 0.5616797900262467,\n        \"num_unique_values\": 2,\n        \"samples\": [\n          0.0,\n          0.5616797900262467\n        ],\n        \"semantic_type\": \"\",\n        \"description\": \"\"\n      }\n    },\n    {\n      \"column\": \"2     1\",\n      \"properties\": {\n        \"dtype\": \"number\",\n        \"std\": 0.12793296089385475,\n        \"min\": 0.0,\n        \"max\": 0.2558659217877095,\n        \"num_unique_values\": 2,\n        \"samples\": [\n          0.2558659217877095,\n          0.0\n        ],\n        \"semantic_type\": \"\",\n        \"description\": \"\"\n      }\n    },\n    {\n      \"column\": \"2     2\",\n      \"properties\": {\n        \"dtype\": \"number\",\n        \"std\": 0.06368715083798883,\n        \"min\": 0.0,\n        \"max\": 0.12737430167597766,\n        \"num_unique_values\": 2,\n        \"samples\": [\n          0.12737430167597766,\n          0.0\n        ],\n        \"semantic_type\": \"\",\n        \"description\": \"\"\n      }\n    },\n    {\n      \"column\": \"2     3\",\n      \"properties\": {\n        \"dtype\": \"number\",\n        \"std\": 0.11731843575418995,\n        \"min\": 0.0,\n        \"max\": 0.2346368715083799,\n        \"num_unique_values\": 2,\n        \"samples\": [\n          0.2346368715083799,\n          0.0\n        ],\n        \"semantic_type\": \"\",\n        \"description\": \"\"\n      }\n    },\n    {\n      \"column\": \"3\",\n      \"properties\": {\n        \"dtype\": \"number\",\n        \"std\": 0.06692913385826774,\n        \"min\": 0.0,\n        \"max\": 0.13385826771653545,\n        \"num_unique_values\": 2,\n        \"samples\": [\n          0.0,\n          0.13385826771653545\n        ],\n        \"semantic_type\": \"\",\n        \"description\": \"\"\n      }\n    },\n    {\n      \"column\": \"3     1\",\n      \"properties\": {\n        \"dtype\": \"number\",\n        \"std\": 0.018435754189944135,\n        \"min\": 0.0,\n        \"max\": 0.03687150837988827,\n        \"num_unique_values\": 2,\n        \"samples\": [\n          0.03687150837988827,\n          0.0\n        ],\n        \"semantic_type\": \"\",\n        \"description\": \"\"\n      }\n    },\n    {\n      \"column\": \"3     2\",\n      \"properties\": {\n        \"dtype\": \"number\",\n        \"std\": 0.02513966480446927,\n        \"min\": 0.0,\n        \"max\": 0.05027932960893855,\n        \"num_unique_values\": 2,\n        \"samples\": [\n          0.05027932960893855,\n          0.0\n        ],\n        \"semantic_type\": \"\",\n        \"description\": \"\"\n      }\n    },\n    {\n      \"column\": \"3     3\",\n      \"properties\": {\n        \"dtype\": \"number\",\n        \"std\": 0.03798882681564246,\n        \"min\": 0.0,\n        \"max\": 0.07597765363128492,\n        \"num_unique_values\": 2,\n        \"samples\": [\n          0.07597765363128492,\n          0.0\n        ],\n        \"semantic_type\": \"\",\n        \"description\": \"\"\n      }\n    }\n  ]\n}"
            }
          },
          "metadata": {},
          "execution_count": 46
        }
      ],
      "source": [
        "pd.crosstab(happy['marital'],happy['happiness'],  normalize = \"index\")"
      ]
    }
  ],
  "metadata": {
    "colab": {
      "provenance": []
    },
    "kernelspec": {
      "display_name": "Python 3",
      "name": "python3"
    },
    "language_info": {
      "codemirror_mode": {
        "name": "ipython",
        "version": 3
      },
      "file_extension": ".py",
      "mimetype": "text/x-python",
      "name": "python",
      "nbconvert_exporter": "python",
      "pygments_lexer": "ipython3",
      "version": "3.9.6"
    }
  },
  "nbformat": 4,
  "nbformat_minor": 0
}"id":"okwY6u3RA2HW"},"source":["Part b. Find the mean, median, and standard deviation. "]},{"cell_type":"code","execution_count":null,"metadata":{"id":"zRgquQXDBU7d"},"outputs":[],"source":[]},{"cell_type":"markdown","metadata":{"id":"51Jc1C0G8pyj"},"source":["**Problem 3**. Read in the murder data set using the following code. The variable murder is the murder rate (per 100,000 population) for each state in the U.S. in 2017 according to the FBI Uniform Crime Reports. At first, do not use the observation for D.C. (DC). "]},{"cell_type":"code","execution_count":3,"metadata":{},"outputs":[],"source":["murders = pd.read_csv(\"https://stat4ds.rwth-aachen.de/data/Murder.dat\")"]},{"cell_type":"markdown","metadata":{"id":"GZZLzlxUBHNq"},"source":["Part a. Find the mean and standard deviation for murders without D.C."]},{"cell_type":"code","execution_count":null,"metadata":{"id":"aWW3ZbwCBfNI"},"outputs":[],"source":[]},{"cell_type":"markdown","metadata":{"id":"i2g3hF1gBfmV"},"source":["Part b. Find the five-number  summary without D.C. "]},{"cell_type":"code","execution_count":null,"metadata":{"id":"JHUzgc_CBkuo"},"outputs":[],"source":[]},{"cell_type":"markdown","metadata":{"id":"StEDIf2eBlEo"},"source":["Part c. Now include the observation for D.C. and recalculate the mean, median, and five-number summary. What is affected more by this outlier: The mean or the median? The range or the inter-quartile range?"]},{"cell_type":"code","execution_count":null,"metadata":{"id":"0E-QkG4K85Ti"},"outputs":[],"source":[]},{"cell_type":"markdown","metadata":{"id":"XSUrzIUN9Usb"},"source":["**Problem 4**. Read in the Houses data file using the following code.  The variables include price (thousands of dollars), size (square feet), tax bill (dollars), number of bathrooms, number of bedrooms, and whether the house is new (1 = yes, 0 = no) for 100 home sales in Gainesville, Florida. Let\n","y = selling price and x = size of home."]},{"cell_type":"code","execution_count":4,"metadata":{},"outputs":[],"source":["houses = pd.read_csv(\"https://stat4ds.rwth-aachen.de/data/Houses.dat\")"]},{"cell_type":"markdown","metadata":{"id":"ANDMQnnNCDJ_"},"source":["Part a. Construct a scatterplot between square feet and price of a home. "]},{"cell_type":"code","execution_count":null,"metadata":{"id":"NR78IlfS9UQL"},"outputs":[],"source":[]},{"cell_type":"markdown","metadata":{"id":"r3-QiSsACInq"},"source":["Part b. Find the correlation between the two variables."]},{"cell_type":"code","execution_count":null,"metadata":{"id":"1Z9oP-T6CMdx"},"outputs":[],"source":[]},{"cell_type":"markdown","metadata":{"id":"nCTcEbFSCM6J"},"source":["Part c. Find and plot the regression line on top of the scatterplot. "]},{"cell_type":"code","execution_count":null,"metadata":{},"outputs":[],"source":[]},{"cell_type":"markdown","metadata":{},"source":["Part d. Create a side by side boxplot of price comparing homes that are new and homes that are not new. "]},{"cell_type":"code","execution_count":null,"metadata":{},"outputs":[],"source":[]},{"cell_type":"markdown","metadata":{},"source":["Part e. What is the relationship between size and price.  Justify your answer using the plots created. Do the same for the relationship between price and whether or not a house is new, again using the plot to justify your answer."]},{"cell_type":"markdown","metadata":{},"source":[]},{"cell_type":"markdown","metadata":{"id":"QsOTfwzI9alX"},"source":["**Problem 1.22**. Using the Happy data file read in by the following code. Construct the contingency table relating marital status and happiness. "]},{"cell_type":"code","execution_count":null,"metadata":{},"outputs":[],"source":["happy = pd.read_csv(\"https://stat4ds.rwth-aachen.de/data/Happy.dat\")"]},{"cell_type":"code","execution_count":null,"metadata":{"id":"NP3JwT9o9btJ"},"outputs":[],"source":[]}],"metadata":{"colab":{"authorship_tag":"ABX9TyOhHxve7vvG01k2sU+qC838","provenance":[]},"kernelspec":{"display_name":"Python 3","name":"python3"},"language_info":{"codemirror_mode":{"name":"ipython","version":3},"file_extension":".py","mimetype":"text/x-python","name":"python","nbconvert_exporter":"python","pygments_lexer":"ipython3","version":"3.9.6"}},"nbformat":4,"nbformat_minor":0}
